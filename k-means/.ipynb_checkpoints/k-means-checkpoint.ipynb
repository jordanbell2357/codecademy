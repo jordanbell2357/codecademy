{
 "cells": [
  {
   "cell_type": "code",
   "execution_count": 1,
   "id": "fbc1ad36-2f19-48f5-bcbe-2784bf4f9f8f",
   "metadata": {},
   "outputs": [
    {
     "name": "stderr",
     "output_type": "stream",
     "text": [
      "C:\\Users\\jorda\\AppData\\Local\\Temp\\ipykernel_19848\\2120331218.py:34: DeprecationWarning: `np.float` is a deprecated alias for the builtin `float`. To silence this warning, use `float` by itself. Doing this will not modify any behavior and is safe. If you specifically wanted the numpy scalar type, use `np.float64` here.\n",
      "Deprecated in NumPy 1.20; for more details and guidance: https://numpy.org/devdocs/release/1.20.0-notes.html#deprecations\n",
      "  y = np.choose(y, [1, 2, 0]).astype(np.float)\n",
      "C:\\Users\\jorda\\AppData\\Local\\Temp\\ipykernel_19848\\2120331218.py:37: MatplotlibDeprecationWarning: The w_xaxis attribute was deprecated in Matplotlib 3.1 and will be removed in 3.8. Use xaxis instead.\n",
      "  ax.w_xaxis.set_ticklabels([])\n",
      "C:\\Users\\jorda\\AppData\\Local\\Temp\\ipykernel_19848\\2120331218.py:38: MatplotlibDeprecationWarning: The w_yaxis attribute was deprecated in Matplotlib 3.1 and will be removed in 3.8. Use yaxis instead.\n",
      "  ax.w_yaxis.set_ticklabels([])\n",
      "C:\\Users\\jorda\\AppData\\Local\\Temp\\ipykernel_19848\\2120331218.py:39: MatplotlibDeprecationWarning: The w_zaxis attribute was deprecated in Matplotlib 3.1 and will be removed in 3.8. Use zaxis instead.\n",
      "  ax.w_zaxis.set_ticklabels([])\n",
      "C:\\Users\\jorda\\AppData\\Local\\Temp\\ipykernel_19848\\2120331218.py:46: MatplotlibDeprecationWarning: The dist attribute was deprecated in Matplotlib 3.6 and will be removed two minor releases later.\n",
      "  ax.dist = 12\n"
     ]
    },
    {
     "data": {
      "text/plain": [
       "<Figure size 400x300 with 0 Axes>"
      ]
     },
     "metadata": {},
     "output_type": "display_data"
    }
   ],
   "source": [
    "import matplotlib.pyplot as plt\n",
    "import numpy as np \n",
    "\n",
    "from os.path import join, dirname, abspath\n",
    "from mpl_toolkits.mplot3d import Axes3D\n",
    "\n",
    "from sklearn.cluster import KMeans\n",
    "from sklearn import datasets\n",
    "\n",
    "iris = datasets.load_iris()\n",
    "\n",
    "x = iris.data\n",
    "y = iris.target\n",
    "\n",
    "fignum = 1\n",
    "\n",
    "# Plot the ground truthd\n",
    "\n",
    "fig = plt.figure(fignum, figsize=(4, 3))\n",
    "\n",
    "ax = Axes3D(fig, rect=[0, 0, .95, 1], elev=48, azim=134)\n",
    "\n",
    "for name, label in [('Zombies', 0),\n",
    "                    ('Programmers', 1),\n",
    "                    ('Vampires', 2)]:\n",
    "    ax.text3D(x[y == label, 3].mean(),\n",
    "              x[y == label, 0].mean(),\n",
    "              x[y == label, 2].mean() + 2, name,\n",
    "              horizontalalignment='center',\n",
    "              bbox=dict(alpha=.2, edgecolor='w', facecolor='w'))\n",
    "\n",
    "# Reorder the labels to have colors matching the cluster results\n",
    "\n",
    "y = np.choose(y, [1, 2, 0]).astype(np.float)\n",
    "ax.scatter(x[:, 3], x[:, 0], x[:, 2], c=y, edgecolor='k')\n",
    "\n",
    "ax.w_xaxis.set_ticklabels([])\n",
    "ax.w_yaxis.set_ticklabels([])\n",
    "ax.w_zaxis.set_ticklabels([])\n",
    "\n",
    "ax.set_xlabel('hates sunlight')\n",
    "ax.set_ylabel('likes garlic')\n",
    "ax.set_zlabel('canine teeth (in)')\n",
    "\n",
    "ax.set_title('')\n",
    "ax.dist = 12\n",
    "\n",
    "# Add code here:\n",
    "plt.show()\n"
   ]
  },
  {
   "cell_type": "code",
   "execution_count": 1,
   "id": "e67511f6-e2fd-4aed-8291-741d63080447",
   "metadata": {},
   "outputs": [
    {
     "name": "stdout",
     "output_type": "stream",
     "text": [
      "[[5.46577909 2.40947669]\n",
      " [4.54252114 3.56119946]\n",
      " [5.70965102 3.37102419]]\n"
     ]
    },
    {
     "data": {
      "image/png": "[encoded data removed]",
      "text/plain": [
       "<Figure size 640x480 with 1 Axes>"
      ]
     },
     "metadata": {},
     "output_type": "display_data"
    }
   ],
   "source": [
    "import matplotlib.pyplot as plt\n",
    "import numpy as np\n",
    "from sklearn import datasets\n",
    "\n",
    "iris = datasets.load_iris()\n",
    "\n",
    "samples = iris.data\n",
    "\n",
    "x = samples[:,0]\n",
    "y = samples[:,1]\n",
    "\n",
    "# Number of clusters\n",
    "k = 3\n",
    "\n",
    "# Create x coordinates of k random centroids\n",
    "centroids_x = np.random.uniform(min(x), max(x), k)\n",
    "\n",
    "# Create y coordinates of k random centroids\n",
    "centroids_y = np.random.uniform(min(y), max(y), k)\n",
    "\n",
    "# Create centroids array\n",
    "centroids = np.array(list(zip(centroids_x, centroids_y)))\n",
    "print(centroids)\n",
    "\n",
    "# Make a scatter plot of x, y\n",
    "plt.scatter(x, y)\n",
    "\n",
    "# Make a scatter plot of the centroids\n",
    "plt.scatter(centroids_x, centroids_y)\n",
    "\n",
    "# Display plot\n",
    "plt.show()\n"
   ]
  },
  {
   "cell_type": "code",
   "execution_count": 2,
   "id": "9bb73fa6-2165-4a11-ad12-75bd06b8c0f8",
   "metadata": {},
   "outputs": [],
   "source": [
    "x = [1,2,3]"
   ]
  },
  {
   "cell_type": "code",
   "execution_count": 4,
   "id": "690f5865-60f4-4046-b725-f468a8368be3",
   "metadata": {},
   "outputs": [
    {
     "data": {
      "text/plain": [
       "array([0, 1, 2])"
      ]
     },
     "execution_count": 4,
     "metadata": {},
     "output_type": "execute_result"
    }
   ],
   "source": [
    "np.array(range(len(x)))"
   ]
  },
  {
   "cell_type": "code",
   "execution_count": null,
   "id": "8cff8f0e-ea72-42f7-b921-72e54a8dc444",
   "metadata": {},
   "outputs": [],
   "source": []
  }
 ],
 "metadata": {
  "kernelspec": {
   "display_name": "Python 3 (ipykernel)",
   "language": "python",
   "name": "python3"
  },
  "language_info": {
   "codemirror_mode": {
    "name": "ipython",
    "version": 3
   },
   "file_extension": ".py",
   "mimetype": "text/x-python",
   "name": "python",
   "nbconvert_exporter": "python",
   "pygments_lexer": "ipython3",
   "version": "3.9.16"
  }
 },
 "nbformat": 4,
 "nbformat_minor": 5
}
