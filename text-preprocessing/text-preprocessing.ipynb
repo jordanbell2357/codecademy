{
 "cells": [
  {
   "cell_type": "markdown",
   "id": "e4951464-e27f-4af4-8670-a2dc9e52a078",
   "metadata": {},
   "source": [
    "Match these strings\n",
    "🚫bear.\n",
    "🚫lion.\n",
    "🚫orca.\n",
    "Don't match these strings\n",
    "🚫mouse\n",
    "🚫koala\n",
    "🚫snail"
   ]
  },
  {
   "cell_type": "code",
   "execution_count": null,
   "id": "b108a696-a0f7-4c6a-86ac-39d8ad94d5e0",
   "metadata": {},
   "outputs": [],
   "source": []
  }
 ],
 "metadata": {
  "kernelspec": {
   "display_name": "Python 3 (ipykernel)",
   "language": "python",
   "name": "python3"
  },
  "language_info": {
   "codemirror_mode": {
    "name": "ipython",
    "version": 3
   },
   "file_extension": ".py",
   "mimetype": "text/x-python",
   "name": "python",
   "nbconvert_exporter": "python",
   "pygments_lexer": "ipython3",
   "version": "3.9.15"
  }
 },
 "nbformat": 4,
 "nbformat_minor": 5
}
