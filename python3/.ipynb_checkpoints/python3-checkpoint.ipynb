{
 "cells": [
  {
   "cell_type": "code",
   "execution_count": 1,
   "id": "f5e24082-4f68-4563-a6d7-da4aff0e7cf3",
   "metadata": {},
   "outputs": [
    {
     "name": "stdout",
     "output_type": "stream",
     "text": [
      "Customer One Items:\n",
      "\n",
      "Lovely Loveseat. Tufted polyester blend on wood. 32 inches high x 40 inches wide x 30 inches deep. Red or white.\n",
      "\n",
      "Luxurious Lamp. Glass and iron. 36 inches tall. Brown with cream shade.\n",
      "\n",
      "Customer One Total:\n",
      "333.09119999999996\n"
     ]
    }
   ],
   "source": [
    "lovely_loveseat_description = \"\"\"\n",
    "Lovely Loveseat. Tufted polyester blend on wood. 32 inches high x 40 inches wide x 30 inches deep. Red or white.\n",
    "\"\"\"\n",
    "\n",
    "lovely_loveseat_price = 254.00\n",
    "\n",
    "stylish_settee_description = \"\"\"\n",
    "Stylish Settee. Faux leather on birch. 29.50 inches high x 54.75 inches wide x 28 inches deep. Black.\n",
    "\"\"\"\n",
    "\n",
    "stylish_settee_price = 180.50\n",
    "\n",
    "luxurious_lamp_description = \"\"\"\n",
    "Luxurious Lamp. Glass and iron. 36 inches tall. Brown with cream shade.\n",
    "\"\"\"\n",
    "\n",
    "luxurious_lamp_price = 52.15\n",
    "\n",
    "sales_tax = .088\n",
    "\n",
    "customer_one_total = 0\n",
    "\n",
    "customer_one_itemization = \"\"\n",
    "\n",
    "customer_one_total += lovely_loveseat_price\n",
    "\n",
    "customer_one_itemization += lovely_loveseat_description\n",
    "\n",
    "customer_one_total += luxurious_lamp_price\n",
    "\n",
    "customer_one_itemization += luxurious_lamp_description\n",
    "\n",
    "customer_one_tax = customer_one_total * sales_tax\n",
    "\n",
    "customer_one_total += customer_one_tax\n",
    "\n",
    "print(\"Customer One Items:\")\n",
    "\n",
    "print(customer_one_itemization)\n",
    "\n",
    "print(\"Customer One Total:\")\n",
    "\n",
    "print(customer_one_total)"
   ]
  },
  {
   "cell_type": "code",
   "execution_count": 2,
   "id": "24133999-f876-4ba5-bcf7-11db95c7c926",
   "metadata": {},
   "outputs": [
    {
     "name": "stdout",
     "output_type": "stream",
     "text": [
      "Bob asks: Does a cat chase an octopus?\n",
      "Magic 8-Ball's answer: Outlook not so good\n"
     ]
    }
   ],
   "source": [
    "import random\n",
    "\n",
    "name = \"Bob\"\n",
    "question = \"Does a cat chase an octopus?\"\n",
    "answer = \"\"\n",
    "random_number = random.randint(1,9)\n",
    "# print(random_number)\n",
    "\n",
    "if random_number == 1:\n",
    "  answer = \"Yes - definitely\"\n",
    "elif random_number == 2:\n",
    "  answer = \"It is decidedly so\"\n",
    "elif random_number == 3:\n",
    "  answer = \"Without a doubt\"\n",
    "elif random_number == 4:\n",
    "  answer = \"Reply hazy, try again\"\n",
    "elif random_number == 5:\n",
    "  answer = \"Ask again later\"\n",
    "elif random_number == 6:\n",
    "  answer = \"Better not tell you now\"\n",
    "elif random_number == 7:\n",
    "  answer = \"My sources say no\"\n",
    "elif random_number == 8:\n",
    "  answer = \"Outlook not so good\"\n",
    "else:\n",
    "  answer = \"Error\"\n",
    "\n",
    "print(name + \" asks: \" + question)\n",
    "print(\"Magic 8-Ball's answer: \" + answer)"
   ]
  },
  {
   "cell_type": "code",
   "execution_count": 3,
   "id": "46dc261f-d12a-4535-864c-4edf602fde28",
   "metadata": {},
   "outputs": [
    {
     "name": "stdout",
     "output_type": "stream",
     "text": [
      "['pajamas', 'books']\n",
      "['shirt', 'shirt', 'pants']\n"
     ]
    }
   ],
   "source": [
    "suitcase = [\"shirt\", \"shirt\", \"pants\", \"pants\", \"pajamas\", \"books\"]\n",
    "\n",
    "last_two_elements = suitcase[-2:]\n",
    "\n",
    "print(last_two_elements)\n",
    "\n",
    "slice_off_last_three = suitcase[:-3]\n",
    "\n",
    "print(slice_off_last_three)"
   ]
  },
  {
   "cell_type": "code",
   "execution_count": 4,
   "id": "f6cc7912-5fd2-456c-821f-ea4323f1a156",
   "metadata": {},
   "outputs": [
    {
     "name": "stdout",
     "output_type": "stream",
     "text": [
      "['10 Downing St.', '12 Grimmauld Place', '1600 Pennsylvania Ave', '221 B Baker St.', '42 Wallaby Way', '742 Evergreen Terrace']\n",
      "None\n"
     ]
    }
   ],
   "source": [
    "# Checkpoint 1 & 2\n",
    "addresses = [\"221 B Baker St.\", \"42 Wallaby Way\", \"12 Grimmauld Place\", \"742 Evergreen Terrace\", \"1600 Pennsylvania Ave\", \"10 Downing St.\"]\n",
    "addresses.sort()\n",
    "print(addresses)\n",
    "\n",
    "# Checkpoint 3\n",
    "names = [\"Ron\", \"Hermione\", \"Harry\", \"Albus\", \"Sirius\"]\n",
    "names.sort()\n",
    "\n",
    "\n",
    "# Checkpoint 4 & 5\n",
    "cities = [\"London\", \"Paris\", \"Rome\", \"Los Angeles\", \"New York\"]\n",
    "sorted_cities = cities.sort(reverse=True)\n",
    "print(sorted_cities)"
   ]
  },
  {
   "cell_type": "code",
   "execution_count": 5,
   "id": "3c54156a-f39c-4e59-a6e5-f457256ab762",
   "metadata": {},
   "outputs": [
    {
     "name": "stdout",
     "output_type": "stream",
     "text": [
      "['Portal', 'Minecraft', 'Pacman', 'Tetris', 'The Sims', 'Pokemon']\n",
      "['Minecraft', 'Pacman', 'Pokemon', 'Portal', 'Tetris', 'The Sims']\n"
     ]
    }
   ],
   "source": [
    "games = [\"Portal\", \"Minecraft\", \"Pacman\", \"Tetris\", \"The Sims\", \"Pokemon\"]\n",
    "\n",
    "games_sorted = sorted(games)\n",
    "\n",
    "print(games)\n",
    "print(games_sorted)"
   ]
  },
  {
   "cell_type": "code",
   "execution_count": 6,
   "id": "3d19176b-c868-4337-b99d-c55855cdba1e",
   "metadata": {},
   "outputs": [],
   "source": [
    "friends = [\"Annabelle\", \"Greg\", \"Katya\", \"Sol\"]"
   ]
  },
  {
   "cell_type": "code",
   "execution_count": 7,
   "id": "16326f59-ea8c-469c-85da-02f5b324f2d3",
   "metadata": {},
   "outputs": [
    {
     "name": "stdout",
     "output_type": "stream",
     "text": [
      "[164, 170, 163, 163]\n"
     ]
    }
   ],
   "source": [
    "heights = [161, 164, 156, 144, 158, 170, 163, 163, 157]\n",
    "\n",
    "can_ride_coaster = [height for height in heights if height > 161]\n",
    "\n",
    "print(can_ride_coaster)"
   ]
  },
  {
   "cell_type": "code",
   "execution_count": 8,
   "id": "5cbd910a-868d-44de-96d1-de246faee2ef",
   "metadata": {},
   "outputs": [
    {
     "name": "stdout",
     "output_type": "stream",
     "text": [
      "0\n",
      "1\n",
      "2\n",
      "3\n",
      "4\n",
      "5\n",
      "6\n",
      "7\n",
      "8\n",
      "9\n",
      "[0, 1, 4, 9, 16, 25, 36, 49, 64, 81]\n",
      "[0, 1, 8, 27, 64, 125, 216, 343, 512, 729]\n"
     ]
    }
   ],
   "source": [
    "single_digits = list(range(10))\n",
    "\n",
    "squares = []\n",
    "\n",
    "for digit in single_digits:\n",
    "  print(str(digit))\n",
    "  squares.append(digit**2)\n",
    "\n",
    "print(squares)\n",
    "\n",
    "cubes = [digit**3 for digit in single_digits]\n",
    "\n",
    "print(cubes)"
   ]
  },
  {
   "cell_type": "code",
   "execution_count": 9,
   "id": "733104e7-cb94-4e7a-8011-1a7138175f1c",
   "metadata": {},
   "outputs": [
    {
     "name": "stdout",
     "output_type": "stream",
     "text": [
      "Average Haircut Price: 31.875\n",
      "[25, 20, 35, 15, 15, 30, 45, 30]\n",
      "Total Revenue: 1085\n",
      "155.0\n",
      "['bouffant', 'pixie', 'crew', 'bowl']\n"
     ]
    }
   ],
   "source": [
    "hairstyles = [\"bouffant\", \"pixie\", \"dreadlocks\", \"crew\", \"bowl\", \"bob\", \"mohawk\", \"flattop\"]\n",
    "\n",
    "prices = [30, 25, 40, 20, 20, 35, 50, 35]\n",
    "\n",
    "last_week = [2, 3, 5, 8, 4, 4, 6, 2]\n",
    "\n",
    "total_price = 0\n",
    "\n",
    "for price in prices:\n",
    "  total_price += price\n",
    "\n",
    "average_price = total_price / len(prices)\n",
    "\n",
    "print(\"Average Haircut Price: \" + str(average_price))\n",
    "\n",
    "new_prices = [price - 5 for price in prices]\n",
    "\n",
    "print(new_prices)\n",
    "\n",
    "total_revenue = 0\n",
    "\n",
    "for i in range(len(hairstyles)):\n",
    "  total_revenue += prices[i] * last_week[i]\n",
    "\n",
    "print(\"Total Revenue: \" + str(total_revenue))\n",
    "\n",
    "average_daily_revenue = total_revenue / 7\n",
    "\n",
    "print(average_daily_revenue)\n",
    "\n",
    "cuts_under_30 = [hairstyles[i] for i in range(len(hairstyles)) if new_prices[i] < 30]\n",
    "\n",
    "print(cuts_under_30)"
   ]
  },
  {
   "cell_type": "code",
   "execution_count": 12,
   "id": "fc22baeb-a733-4cb7-9ced-83a54508b0dc",
   "metadata": {},
   "outputs": [
    {
     "data": {
      "text/plain": [
       "'bc'"
      ]
     },
     "execution_count": 12,
     "metadata": {},
     "output_type": "execute_result"
    }
   ],
   "source": [
    "\"abc\"[1:10]"
   ]
  },
  {
   "cell_type": "code",
   "execution_count": 13,
   "id": "0fce3b35-8c2d-4c9a-9023-0a381f24d1ea",
   "metadata": {},
   "outputs": [],
   "source": [
    "def username_generator(first_name, last_name):\n",
    "  return first_name[:3] + last_name[:4]\n",
    "\n",
    "def password_generator(user_name):\n",
    "  password = \"\"\n",
    "  for i in range(len(user_name)):\n",
    "    password += user_name[i-1]\n",
    "  return password"
   ]
  },
  {
   "cell_type": "code",
   "execution_count": 14,
   "id": "19dcf5b3-25b9-4bb4-8e7b-e2307f197e6d",
   "metadata": {},
   "outputs": [
    {
     "name": "stdout",
     "output_type": "stream",
     "text": [
      "spring storm\n",
      "Spring Storm\n",
      "William Carlos Williams\n",
      "WILLIAM CARLOS WILLIAMS\n"
     ]
    }
   ],
   "source": [
    "poem_title = \"spring storm\"\n",
    "poem_author = \"William Carlos Williams\"\n",
    "\n",
    "poem_title_fixed = poem_title.title()\n",
    "\n",
    "print(poem_title)\n",
    "print(poem_title_fixed)\n",
    "\n",
    "poem_author_fixed = poem_author.upper()\n",
    "\n",
    "print(poem_author)\n",
    "print(poem_author_fixed)"
   ]
  },
  {
   "cell_type": "code",
   "execution_count": 15,
   "id": "640a4972-4d60-47c6-8b6c-029f4bc9cc38",
   "metadata": {},
   "outputs": [
    {
     "name": "stdout",
     "output_type": "stream",
     "text": [
      "['Lorde', 'Mistral', 'Toomer', 'Qi', 'Whitman', 'Silverstein', 'Boullosa', 'Suraiyya', 'Hughes', 'Rich', 'Giovanni']\n"
     ]
    }
   ],
   "source": [
    "authors = \"Audre Lorde,Gabriela Mistral,Jean Toomer,An Qi,Walt Whitman,Shel Silverstein,Carmen Boullosa,Kamala Suraiyya,Langston Hughes,Adrienne Rich,Nikki Giovanni\"\n",
    "\n",
    "author_names = authors.split(',')\n",
    "\n",
    "author_last_names = [author.split()[1] for author in author_names]\n",
    "\n",
    "print(author_last_names)"
   ]
  },
  {
   "cell_type": "code",
   "execution_count": 1,
   "id": "7dcd3226-a91a-4bd2-bec2-77b1dd9ead94",
   "metadata": {},
   "outputs": [],
   "source": [
    "reapers_line_one_words = [\"Black\", \"reapers\", \"with\", \"the\", \"sound\", \"of\", \"steel\", \"on\", \"stones\"]\n",
    "\n",
    "reapers_line_one = ' '.join(reapers_line_one_words)"
   ]
  },
  {
   "cell_type": "code",
   "execution_count": 2,
   "id": "f5d673b4-6fd4-467f-b1d6-fb0f766d1249",
   "metadata": {},
   "outputs": [],
   "source": [
    "winter_trees_lines = ['All the complicated details', 'of the attiring and', 'the disattiring are completed!', 'A liquid moon', 'moves gently among', 'the long branches.', 'Thus having prepared their buds', 'against a sure winter', 'the wise trees', 'stand sleeping in the cold.']\n",
    "\n",
    "winter_trees_full = '\\n'.join(winter_trees_lines)"
   ]
  },
  {
   "cell_type": "code",
   "execution_count": 3,
   "id": "116dd7e5-98be-4090-b1d2-00086ee8eecd",
   "metadata": {},
   "outputs": [
    {
     "name": "stdout",
     "output_type": "stream",
     "text": [
      "Always\n",
      "in the middle of our bloodiest battles\n",
      "you lay down your arms\n",
      "like flowering mines\n",
      "\n",
      "to conquer me home.\n"
     ]
    }
   ],
   "source": [
    "love_maybe_lines = ['Always    ', '     in the middle of our bloodiest battles  ', 'you lay down your arms', '           like flowering mines    ','\\n' ,'   to conquer me home.    ']\n",
    "\n",
    "love_maybe_lines_stripped = [line.strip() for line in love_maybe_lines]\n",
    "\n",
    "love_maybe_full = '\\n'.join(love_maybe_lines_stripped)\n",
    "\n",
    "print(love_maybe_full)"
   ]
  },
  {
   "cell_type": "code",
   "execution_count": 4,
   "id": "d8e56926-5697-443a-932e-9f6c5bd3e67a",
   "metadata": {},
   "outputs": [],
   "source": [
    "def poem_title_card(title, poet):\n",
    "  return \"The poem \\\"{}\\\" is written by {}.\".format(title,poet)"
   ]
  },
  {
   "cell_type": "code",
   "execution_count": 5,
   "id": "e1beeca7-a7e2-4e04-b9bc-e6230b599052",
   "metadata": {},
   "outputs": [],
   "source": [
    "def poem_description(publishing_date, author, title, original_work):\n",
    "  poem_desc = \"The poem {title} by {author} was originally published in {original_work} in {publishing_date}.\".format(publishing_date=publishing_date, author=author, title=title, original_work=original_work)\n",
    "  return poem_desc\n",
    "\n",
    "my_beard_description = poem_description(\n",
    "  author = \"Shel Silverstein\",\n",
    "  title = \"My Beard\",\n",
    "  original_work = \"Where the Sidewalk Ends\",\n",
    "  publishing_date = \"1974\"\n",
    ")"
   ]
  },
  {
   "cell_type": "code",
   "execution_count": 6,
   "id": "5e696bf9-0b29-427a-8882-cc9055a2a454",
   "metadata": {},
   "outputs": [
    {
     "name": "stdout",
     "output_type": "stream",
     "text": [
      "The poem Afterimages was published by Audre Lorde in 1997.\n",
      "The poem The Shadow was published by William Carlos Williams in 1915.\n",
      "The poem Ecstasy was published by Gabriela Mistral in 1925.\n",
      "The poem Georgia Dusk was published by Jean Toomer in 1923.\n",
      "The poem Parting Before Daybreak was published by An Qi in 2014.\n",
      "The poem The Untold Want was published by Walt Whitman in 1871.\n",
      "The poem Mr. Grumpledump's Song was published by Shel Silverstein in 2004.\n",
      "The poem Angel Sound Mexico City was published by Carmen Boullosa in 2013.\n",
      "The poem In Love was published by Kamala Suraiyya in 1965.\n",
      "The poem Dream Variations was published by Langston Hughes in 1994.\n",
      "The poem Dreamwood was published by Adrienne Rich in 1987.\n"
     ]
    }
   ],
   "source": [
    "highlighted_poems = \"Afterimages:Audre Lorde:1997,  The Shadow:William Carlos Williams:1915, Ecstasy:Gabriela Mistral:1925,   Georgia Dusk:Jean Toomer:1923,   Parting Before Daybreak:An Qi:2014, The Untold Want:Walt Whitman:1871, Mr. Grumpledump's Song:Shel Silverstein:2004, Angel Sound Mexico City:Carmen Boullosa:2013, In Love:Kamala Suraiyya:1965, Dream Variations:Langston Hughes:1994, Dreamwood:Adrienne Rich:1987\"\n",
    "\n",
    "highlighted_poems_list = highlighted_poems.split(',')\n",
    "\n",
    "highlighted_poems_stripped = []\n",
    "\n",
    "for poem in highlighted_poems_list:\n",
    "  highlighted_poems_stripped.append(poem.strip())\n",
    "\n",
    "highlighted_poems_details = []\n",
    "\n",
    "for poem in highlighted_poems_stripped:\n",
    "  highlighted_poems_details.append(poem.split(':'))\n",
    "\n",
    "titles = []\n",
    "poets = []\n",
    "dates = []\n",
    "\n",
    "for poem in highlighted_poems_details:\n",
    "  titles.append(poem[0])\n",
    "  poets.append(poem[1])\n",
    "  dates.append(poem[2])\n",
    "\n",
    "for i in range(len(highlighted_poems_details)):\n",
    "  print(\"The poem {TITLE} was published by {POET} in {DATE}.\".format(TITLE=titles[i], POET=poets[i], DATE=dates[i]))"
   ]
  },
  {
   "cell_type": "code",
   "execution_count": 7,
   "id": "fe2849de-5840-4d30-9726-fde5f593dd21",
   "metadata": {},
   "outputs": [
    {
     "data": {
      "text/plain": [
       "'god is a god'"
      ]
     },
     "execution_count": 7,
     "metadata": {},
     "output_type": "execute_result"
    }
   ],
   "source": [
    "\"dog is a dog\".replace(\"dog\",\"god\")"
   ]
  },
  {
   "cell_type": "code",
   "execution_count": 8,
   "id": "affadf72-320f-4518-b472-bc47ebc35d6a",
   "metadata": {},
   "outputs": [
    {
     "name": "stdout",
     "output_type": "stream",
     "text": [
      "red sales today: 24\n",
      "yellow sales today: 34\n",
      "green sales today: 30\n",
      "white sales today: 28\n",
      "black sales today: 26\n",
      "blue sales today: 22\n",
      "purple sales today: 17\n"
     ]
    }
   ],
   "source": [
    "daily_sales = \\\n",
    "\"\"\"Edith Mcbride   ;,;$1.21   ;,;   white ;,; \n",
    "09/15/17   ,Herbert Tran   ;,;   $7.29;,; \n",
    "white&blue;,;   09/15/17 ,Paul Clarke ;,;$12.52 \n",
    ";,;   white&blue ;,; 09/15/17 ,Lucille Caldwell   \n",
    ";,;   $5.13   ;,; white   ;,; 09/15/17,\n",
    "Eduardo George   ;,;$20.39;,; white&yellow \n",
    ";,;09/15/17   ,   Danny Mclaughlin;,;$30.82;,;   \n",
    "purple ;,;09/15/17 ,Stacy Vargas;,; $1.85   ;,; \n",
    "purple&yellow ;,;09/15/17,   Shaun Brock;,; \n",
    "$17.98;,;purple&yellow ;,; 09/15/17 , \n",
    "Erick Harper ;,;$17.41;,; blue ;,; 09/15/17, \n",
    "Michelle Howell ;,;$28.59;,; blue;,;   09/15/17   , \n",
    "Carroll Boyd;,; $14.51;,;   purple&blue   ;,;   \n",
    "09/15/17   , Teresa Carter   ;,; $19.64 ;,; \n",
    "white;,;09/15/17   ,   Jacob Kennedy ;,; $11.40   \n",
    ";,; white&red   ;,; 09/15/17, Craig Chambers;,; \n",
    "$8.79 ;,; white&blue&red   ;,;09/15/17   , Peggy Bell;,; $8.65 ;,;blue   ;,; 09/15/17,   Kenneth Cunningham ;,;   $10.53;,;   green&blue   ;,; \n",
    "09/15/17   ,   Marvin Morgan;,;   $16.49;,; \n",
    "green&blue&red   ;,;   09/15/17 ,Marjorie Russell \n",
    ";,; $6.55 ;,;   green&blue&red;,;   09/15/17 ,\n",
    "Israel Cummings;,;   $11.86   ;,;black;,;  \n",
    "09/15/17,   June Doyle   ;,;   $22.29 ;,;  \n",
    "black&yellow ;,;09/15/17 , Jaime Buchanan   ;,;   \n",
    "$8.35;,;   white&black&yellow   ;,;   09/15/17,   \n",
    "Rhonda Farmer;,;$2.91 ;,;   white&black&yellow   \n",
    ";,;09/15/17, Darren Mckenzie ;,;$22.94;,;green \n",
    ";,;09/15/17,Rufus Malone;,;$4.70   ;,; green&yellow \n",
    ";,; 09/15/17   ,Hubert Miles;,;   $3.59   \n",
    ";,;green&yellow&blue;,;   09/15/17   , Joseph Bridges  ;,;$5.66   ;,; green&yellow&purple&blue \n",
    ";,;   09/15/17 , Sergio Murphy   ;,;$17.51   ;,;   \n",
    "black   ;,;   09/15/17 , Audrey Ferguson ;,; \n",
    "$5.54;,;black&blue   ;,;09/15/17 ,Edna Williams ;,; \n",
    "$17.13;,; black&blue;,;   09/15/17,   Randy Fleming;,;   $21.13 ;,;black ;,;09/15/17 ,Elisa Hart;,; $0.35   ;,; black&purple;,;   09/15/17   ,\n",
    "Ernesto Hunt ;,; $13.91   ;,;   black&purple ;,;   \n",
    "09/15/17,   Shannon Chavez   ;,;$19.26   ;,; \n",
    "yellow;,; 09/15/17   , Sammy Cain;,; $5.45;,;   \n",
    "yellow&red ;,;09/15/17 ,   Steven Reeves ;,;$5.50   \n",
    ";,;   yellow;,;   09/15/17, Ruben Jones   ;,; \n",
    "$14.56 ;,;   yellow&blue;,;09/15/17 , Essie Hansen;,;   $7.33   ;,;   yellow&blue&red\n",
    ";,; 09/15/17   ,   Rene Hardy   ;,; $20.22   ;,; \n",
    "black ;,;   09/15/17 ,   Lucy Snyder   ;,; $8.67   \n",
    ";,;black&red  ;,; 09/15/17 ,Dallas Obrien ;,;   \n",
    "$8.31;,;   black&red ;,;   09/15/17,   Stacey Payne \n",
    ";,;   $15.70   ;,;   white&black&red ;,;09/15/17   \n",
    ",   Tanya Cox   ;,;   $6.74   ;,;yellow   ;,; \n",
    "09/15/17 , Melody Moran ;,;   $30.84   \n",
    ";,;yellow&black;,;   09/15/17 , Louise Becker   ;,; \n",
    "$12.31 ;,; green&yellow&black;,;   09/15/17 ,\n",
    "Ryan Webster;,;$2.94 ;,; yellow ;,; 09/15/17 \n",
    ",Justin Blake ;,; $22.46   ;,;white&yellow ;,;   \n",
    "09/15/17,   Beverly Baldwin ;,;   $6.60;,;   \n",
    "white&yellow&black ;,;09/15/17   ,   Dale Brady   \n",
    ";,;   $6.27 ;,; yellow   ;,;09/15/17 ,Guadalupe Potter ;,;$21.12   ;,; yellow;,; 09/15/17   , \n",
    "Desiree Butler ;,;$2.10   ;,;white;,; 09/15/17  \n",
    ",Sonja Barnett ;,; $14.22 ;,;white&black;,;   \n",
    "09/15/17, Angelica Garza;,;$11.60;,;white&black   \n",
    ";,;   09/15/17   ,   Jamie Welch   ;,; $25.27   ;,; \n",
    "white&black&red ;,;09/15/17   ,   Rex Hudson   \n",
    ";,;$8.26;,;   purple;,; 09/15/17 ,   Nadine Gibbs \n",
    ";,;   $30.80 ;,;   purple&yellow   ;,; 09/15/17   , \n",
    "Hannah Pratt;,;   $22.61   ;,;   purple&yellow   \n",
    ";,;09/15/17,Gayle Richards;,;$22.19 ;,; \n",
    "green&purple&yellow ;,;09/15/17   ,Stanley Holland \n",
    ";,; $7.47   ;,; red ;,; 09/15/17 , Anna Dean;,;$5.49 ;,; yellow&red ;,;   09/15/17   ,\n",
    "Terrance Saunders ;,;   $23.70  ;,;green&yellow&red \n",
    ";,; 09/15/17 ,   Brandi Zimmerman ;,; $26.66 ;,; \n",
    "red   ;,;09/15/17 ,Guadalupe Freeman ;,; $25.95;,; \n",
    "green&red ;,;   09/15/17   ,Irving Patterson \n",
    ";,;$19.55 ;,; green&white&red ;,;   09/15/17 ,Karl Ross;,;   $15.68;,;   white ;,;   09/15/17 , Brandy Cortez ;,;$23.57;,;   white&red   ;,;09/15/17, \n",
    "Mamie Riley   ;,;$29.32;,; purple;,;09/15/17 ,Mike Thornton   ;,; $26.44 ;,;   purple   ;,; 09/15/17, \n",
    "Jamie Vaughn   ;,; $17.24;,;green ;,; 09/15/17   , \n",
    "Noah Day ;,;   $8.49   ;,;green   ;,;09/15/17   \n",
    ",Josephine Keller ;,;$13.10 ;,;green;,;   09/15/17 ,   Tracey Wolfe;,;$20.39 ;,; red   ;,; 09/15/17 ,\n",
    "Ignacio Parks;,;$14.70   ;,; white&red ;,;09/15/17 \n",
    ", Beatrice Newman ;,;$22.45   ;,;white&purple&red \n",
    ";,;   09/15/17, Andre Norris   ;,;   $28.46   ;,;   \n",
    "red;,;   09/15/17 ,   Albert Lewis ;,; $23.89;,;   \n",
    "black&red;,; 09/15/17,   Javier Bailey   ;,;   \n",
    "$24.49   ;,; black&red ;,; 09/15/17   , Everett Lyons ;,;$1.81;,;   black&red ;,; 09/15/17 ,   \n",
    "Abraham Maxwell;,; $6.81   ;,;green;,;   09/15/17   \n",
    ",   Traci Craig ;,;$0.65;,; green&yellow;,; \n",
    "09/15/17 , Jeffrey Jenkins   ;,;$26.45;,; \n",
    "green&yellow&blue   ;,;   09/15/17,   Merle Wilson \n",
    ";,;   $7.69 ;,; purple;,; 09/15/17,Janis Franklin   \n",
    ";,;$8.74   ;,; purple&black   ;,;09/15/17 ,  \n",
    "Leonard Guerrero ;,;   $1.86   ;,;yellow  \n",
    ";,;09/15/17,Lana Sanchez;,;$14.75   ;,; yellow;,;   \n",
    "09/15/17   ,Donna Ball ;,; $28.10  ;,; \n",
    "yellow&blue;,;   09/15/17   , Terrell Barber   ;,; \n",
    "$9.91   ;,; green ;,;09/15/17   ,Jody Flores;,; \n",
    "$16.34 ;,; green ;,;   09/15/17,   Daryl Herrera \n",
    ";,;$27.57;,; white;,;   09/15/17   , Miguel Mcguire;,;$5.25;,; white&blue   ;,;   09/15/17 ,   \n",
    "Rogelio Gonzalez;,; $9.51;,;   white&black&blue   \n",
    ";,;   09/15/17   ,   Lora Hammond ;,;$20.56 ;,; \n",
    "green;,;   09/15/17,Owen Ward;,; $21.64   ;,;   \n",
    "green&yellow;,;09/15/17,Malcolm Morales ;,;   \n",
    "$24.99   ;,;   green&yellow&black;,; 09/15/17 ,   \n",
    "Eric Mcdaniel ;,;$29.70;,; green ;,; 09/15/17 \n",
    ",Madeline Estrada;,;   $15.52;,;green;,;   09/15/17 \n",
    ", Leticia Manning;,;$15.70 ;,; green&purple;,; \n",
    "09/15/17 ,   Mario Wallace ;,; $12.36 ;,;green ;,; \n",
    "09/15/17,Lewis Glover;,;   $13.66   ;,;   \n",
    "green&white;,;09/15/17,   Gail Phelps   ;,;$30.52   \n",
    ";,; green&white&blue   ;,; 09/15/17 , Myrtle Morris \n",
    ";,;   $22.66   ;,; green&white&blue;,;09/15/17\"\"\"\n",
    "\n",
    "daily_sales_replaced = daily_sales.replace(';,;','@')\n",
    "\n",
    "daily_transactions = daily_sales_replaced.split(',')\n",
    "\n",
    "daily_transactions_split = []\n",
    "\n",
    "for transaction in daily_transactions:\n",
    "  daily_transactions_split.append(transaction.split('@'))\n",
    "\n",
    "transactions_clean = []\n",
    "\n",
    "for transaction in daily_transactions_split:\n",
    "  items_cleaned = []\n",
    "  for item in transaction:\n",
    "    items_cleaned.append(item.strip())\n",
    "  transactions_clean.append(items_cleaned)\n",
    "\n",
    "customers = []\n",
    "sales = []\n",
    "thread_sold = []\n",
    "\n",
    "for transaction in transactions_clean:\n",
    "  customers.append(transaction[0])\n",
    "  sales.append(transaction[1])\n",
    "  thread_sold.append(transaction[2])\n",
    "\n",
    "total_sales = 0\n",
    "\n",
    "for sale in sales:\n",
    "  total_sales += float(sale.strip('$'))\n",
    "\n",
    "thread_sold_split = []\n",
    "\n",
    "for item in thread_sold:\n",
    "  for thread in item.split('&'):\n",
    "    thread_sold_split.append(thread)\n",
    "\n",
    "def color_count(color):\n",
    "  i = 0\n",
    "  for thread in thread_sold_split:\n",
    "    if thread == color:\n",
    "      i+=1\n",
    "  return i\n",
    "\n",
    "colors = ['red', 'yellow', 'green', 'white', 'black', 'blue', 'purple']\n",
    "\n",
    "for color in colors:\n",
    "  print(\"{color} sales today: {sale}\".format(color=color, sale = color_count(color)))"
   ]
  },
  {
   "cell_type": "code",
   "execution_count": 1,
   "id": "6da7849e-a646-4c29-8ae5-929e72145cc4",
   "metadata": {},
   "outputs": [
    {
     "name": "stdout",
     "output_type": "stream",
     "text": [
      "2023-03-31 20:41:57.124453\n"
     ]
    }
   ],
   "source": [
    "from datetime import datetime\n",
    "\n",
    "current_time = datetime.now()\n",
    "\n",
    "print(current_time)"
   ]
  },
  {
   "cell_type": "code",
   "execution_count": 2,
   "id": "c3fb4467-304d-4ba8-88e9-e11001598e57",
   "metadata": {},
   "outputs": [
    {
     "name": "stdout",
     "output_type": "stream",
     "text": [
      "35\n"
     ]
    }
   ],
   "source": [
    "# Import random below:\n",
    "import random\n",
    "\n",
    "# Create random_list below:\n",
    "random_list = [random.randint(1,100) for item in range(101)]\n",
    "\n",
    "# Create randomer_number below:\n",
    "randomer_number = random.choice(random_list)\n",
    "\n",
    "# Print randomer_number below:\n",
    "print(randomer_number)"
   ]
  },
  {
   "cell_type": "code",
   "execution_count": 4,
   "id": "16b28b1b-ced1-4a32-80db-ca92f2cbefcf",
   "metadata": {},
   "outputs": [
    {
     "data": {
      "image/png": "[encoded data removed]",
      "text/plain": [
       "<Figure size 640x480 with 1 Axes>"
      ]
     },
     "metadata": {},
     "output_type": "display_data"
    }
   ],
   "source": [
    "from matplotlib import pyplot as plt\n",
    "import random\n",
    "\n",
    "numbers_a = range(1,12+1)\n",
    "\n",
    "numbers_b = random.sample(range(1000), 12)\n",
    "\n",
    "plt.plot(numbers_a, numbers_b)\n",
    "plt.show()"
   ]
  },
  {
   "cell_type": "code",
   "execution_count": 5,
   "id": "fa2163bd-70bf-4eb0-abeb-e4bf5f5e9c86",
   "metadata": {},
   "outputs": [
    {
     "name": "stdout",
     "output_type": "stream",
     "text": [
      "0.89\n",
      "0.3445\n"
     ]
    }
   ],
   "source": [
    "# Import Decimal below:\n",
    "from decimal import Decimal\n",
    "\n",
    "# Fix the floating point math below:\n",
    "two_decimal_points = Decimal('0.2') + Decimal('0.69')\n",
    "print(two_decimal_points)\n",
    "\n",
    "four_decimal_points = Decimal('0.53') * Decimal('0.65')\n",
    "print(four_decimal_points)"
   ]
  },
  {
   "cell_type": "code",
   "execution_count": 7,
   "id": "e8309abd-8a50-4094-ac7b-7bfcbc54ca89",
   "metadata": {},
   "outputs": [
    {
     "name": "stdout",
     "output_type": "stream",
     "text": [
      "Requirement already satisfied: pipenv in c:\\users\\jorda\\appdata\\roaming\\python\\python39\\site-packages (2023.3.20)\n",
      "Requirement already satisfied: setuptools>=67.0.0 in c:\\users\\jorda\\appdata\\roaming\\python\\python39\\site-packages (from pipenv) (67.6.1)\n",
      "Requirement already satisfied: virtualenv-clone>=0.2.5 in c:\\users\\jorda\\appdata\\roaming\\python\\python39\\site-packages (from pipenv) (0.5.7)\n",
      "Requirement already satisfied: virtualenv>=20.17.1 in c:\\users\\jorda\\appdata\\roaming\\python\\python39\\site-packages (from pipenv) (20.21.0)\n",
      "Requirement already satisfied: certifi in c:\\users\\jorda\\anaconda3\\envs\\sktime\\lib\\site-packages (from pipenv) (2022.12.7)\n",
      "Requirement already satisfied: platformdirs<4,>=2.4 in c:\\users\\jorda\\anaconda3\\envs\\sktime\\lib\\site-packages (from virtualenv>=20.17.1->pipenv) (2.6.2)\n",
      "Requirement already satisfied: filelock<4,>=3.4.1 in c:\\users\\jorda\\appdata\\roaming\\python\\python39\\site-packages (from virtualenv>=20.17.1->pipenv) (3.10.7)\n",
      "Requirement already satisfied: distlib<1,>=0.3.6 in c:\\users\\jorda\\appdata\\roaming\\python\\python39\\site-packages (from virtualenv>=20.17.1->pipenv) (0.3.6)\n"
     ]
    }
   ],
   "source": [
    "!pip3 install --user pipenv"
   ]
  },
  {
   "cell_type": "code",
   "execution_count": 8,
   "id": "64ba6f06-4942-495b-bac1-4650c468b33f",
   "metadata": {},
   "outputs": [
    {
     "name": "stdout",
     "output_type": "stream",
     "text": [
      "{'living room': 21, 'kitchen': 23, 'bedroom': 20, 'pantry': 22}\n"
     ]
    }
   ],
   "source": [
    "sensors =  {\"living room\": 21, \"kitchen\": 23, \"bedroom\": 20, \"pantry\": 22}\n",
    "num_cameras = {\"backyard\": 6, \"garage\": 2, \"driveway\": 1}\n",
    "\n",
    "print(sensors)"
   ]
  },
  {
   "cell_type": "code",
   "execution_count": 9,
   "id": "9fd5b7b7-a21f-4ad8-b58b-d0fe5ef319c0",
   "metadata": {},
   "outputs": [],
   "source": [
    "children = {\n",
    "  \"von Trapp\": [\"Johannes\", \"Rosmarie\", \"Eleonore\"],\n",
    "  \"Corleone\": [\"Sonny\", \"Fredo\", \"Michael\"]\n",
    "}"
   ]
  },
  {
   "cell_type": "code",
   "execution_count": 10,
   "id": "640a7fd6-f2ff-4605-b5de-8ca993821fc4",
   "metadata": {},
   "outputs": [
    {
     "name": "stdout",
     "output_type": "stream",
     "text": [
      "{'zebras': 8, 'monkeys': 12, 'dinosaurs': 0}\n"
     ]
    }
   ],
   "source": [
    "animals_in_zoo = {}\n",
    "\n",
    "animals_in_zoo[\"zebras\"] = 8\n",
    "\n",
    "animals_in_zoo[\"monkeys\"] = 12\n",
    "\n",
    "animals_in_zoo[\"dinosaurs\"] = 0\n",
    "\n",
    "print(animals_in_zoo)"
   ]
  },
  {
   "cell_type": "code",
   "execution_count": 11,
   "id": "2aff5e66-182e-4895-9ce2-ff56d0a6b777",
   "metadata": {},
   "outputs": [
    {
     "name": "stdout",
     "output_type": "stream",
     "text": [
      "{'teraCoder': 9018293, 'proProgrammer': 119238, 'theLooper': 138475, 'stringQueen': 85739}\n"
     ]
    }
   ],
   "source": [
    "user_ids = {\"teraCoder\": 9018293, \"proProgrammer\": 119238}\n",
    "\n",
    "user_ids.update({\"theLooper\": 138475, \"stringQueen\": 85739})\n",
    "\n",
    "print(user_ids)"
   ]
  },
  {
   "cell_type": "code",
   "execution_count": 12,
   "id": "2df13bfa-97d9-434c-b727-572068dddf0d",
   "metadata": {},
   "outputs": [],
   "source": [
    "drinks = [\"espresso\", \"chai\", \"decaf\", \"drip\"]\n",
    "caffeine = [64, 40, 0, 120]\n",
    "\n",
    "zipped_drinks = zip(drinks, caffeine)\n",
    "\n",
    "drinks_to_caffeine = {k:v for k,v in zipped_drinks}"
   ]
  },
  {
   "cell_type": "code",
   "execution_count": 13,
   "id": "9ba17875-ac99-4a13-8f25-db0d79fc5cd3",
   "metadata": {},
   "outputs": [
    {
     "name": "stdout",
     "output_type": "stream",
     "text": [
      "{'Like a Rolling Stone': 78, 'Satisfaction': 29, 'Imagine': 44, \"What's Going On\": 21, 'Respect': 89, 'Good Vibrations': 5}\n",
      "{'The Best Songs': {'Like a Rolling Stone': 78, 'Satisfaction': 29, 'Imagine': 44, \"What's Going On\": 21, 'Respect': 94, 'Good Vibrations': 5, 'Purple Haze': 1}, 'Sunday Feelings': {}}\n"
     ]
    }
   ],
   "source": [
    "songs = [\"Like a Rolling Stone\", \"Satisfaction\", \"Imagine\", \"What's Going On\", \"Respect\", \"Good Vibrations\"]\n",
    "playcounts = [78, 29, 44, 21, 89, 5]\n",
    "\n",
    "plays = {k:v for k,v in zip(songs,playcounts)}\n",
    "\n",
    "print(plays)\n",
    "\n",
    "plays[\"Purple Haze\"] = 1\n",
    "\n",
    "plays[\"Respect\"] = 94\n",
    "\n",
    "library = {\"The Best Songs\": plays, \"Sunday Feelings\": {}}\n",
    "\n",
    "print(library)"
   ]
  },
  {
   "cell_type": "code",
   "execution_count": 1,
   "id": "4720548e-51e1-4f0c-99a6-bbd555b0620c",
   "metadata": {},
   "outputs": [
    {
     "name": "stdout",
     "output_type": "stream",
     "text": [
      "{'health potion': 10, 'cake of the cure': 5, 'green elixir': 20, 'strength sandwich': 25}\n",
      "65\n"
     ]
    }
   ],
   "source": [
    "available_items = {\"health potion\": 10, \"cake of the cure\": 5, \"green elixir\": 20, \"strength sandwich\": 25, \"stamina grains\": 15, \"power stew\": 30}\n",
    "health_points = 20\n",
    "health_points += available_items.pop(\"stamina grains\",0)\n",
    "health_points += available_items.pop(\"power stew\",0)\n",
    "health_points += available_items.pop(\"mystic bread\",0)\n",
    "print(available_items)\n",
    "print(health_points)"
   ]
  },
  {
   "cell_type": "code",
   "execution_count": 2,
   "id": "7b8a06ed-a9dd-42a5-b3cc-426e28081902",
   "metadata": {},
   "outputs": [
    {
     "name": "stdout",
     "output_type": "stream",
     "text": [
      "dict_keys(['teraCoder', 'pythonGuy', 'samTheJavaMaam', 'lyleLoop', 'keysmithKeith'])\n",
      "dict_keys(['functions', 'syntax', 'control flow', 'loops', 'lists', 'classes', 'dictionaries'])\n"
     ]
    }
   ],
   "source": [
    "user_ids = {\"teraCoder\": 100019, \"pythonGuy\": 182921, \"samTheJavaMaam\": 123112, \"lyleLoop\": 102931, \"keysmithKeith\": 129384}\n",
    "num_exercises = {\"functions\": 10, \"syntax\": 13, \"control flow\": 15, \"loops\": 22, \"lists\": 19, \"classes\": 18, \"dictionaries\": 18}\n",
    "\n",
    "users = user_ids.keys()\n",
    "\n",
    "lessons = num_exercises.keys()\n",
    "\n",
    "print(users)\n",
    "\n",
    "print(lessons)"
   ]
  },
  {
   "cell_type": "code",
   "execution_count": 3,
   "id": "aa05dab1-d9da-4a51-aee2-4bf2a8647f9d",
   "metadata": {},
   "outputs": [
    {
     "name": "stdout",
     "output_type": "stream",
     "text": [
      "115\n"
     ]
    }
   ],
   "source": [
    "num_exercises = {\"functions\": 10, \"syntax\": 13, \"control flow\": 15, \"loops\": 22, \"lists\": 19, \"classes\": 18, \"dictionaries\": 18}\n",
    "\n",
    "total_exercises = 0\n",
    "\n",
    "for v in num_exercises.values():\n",
    "    total_exercises += v\n",
    "\n",
    "print(total_exercises)"
   ]
  },
  {
   "cell_type": "code",
   "execution_count": 4,
   "id": "f994036c-79b4-49ba-bc09-72d4947e7780",
   "metadata": {},
   "outputs": [
    {
     "name": "stdout",
     "output_type": "stream",
     "text": [
      "Women make up 28 percent of CEOs.\n",
      "Women make up 9 percent of Engineering Managers.\n",
      "Women make up 58 percent of Pharmacists.\n",
      "Women make up 40 percent of Physicians.\n",
      "Women make up 37 percent of Lawyers.\n",
      "Women make up 9 percent of Aerospace Engineers.\n"
     ]
    }
   ],
   "source": [
    "pct_women_in_occupation = {\"CEO\": 28, \"Engineering Manager\": 9, \"Pharmacist\": 58, \"Physician\": 40, \"Lawyer\": 37, \"Aerospace Engineer\": 9}\n",
    "\n",
    "for k,v in pct_women_in_occupation.items():\n",
    "  print(\"Women make up {value} percent of {key}s.\".format(value=v, key=k))"
   ]
  },
  {
   "cell_type": "code",
   "execution_count": 5,
   "id": "828d1915-8be2-4e82-a52c-8feefe01a442",
   "metadata": {},
   "outputs": [
    {
     "name": "stdout",
     "output_type": "stream",
     "text": [
      "Your past is the Death card.\n",
      "Your present is the The Fool card.\n",
      "Your future is the Wheel of Fortune card.\n"
     ]
    }
   ],
   "source": [
    "tarot = { 1:\t\"The Magician\", 2:\t\"The High Priestess\", 3:\t\"The Empress\", 4:\t\"The Emperor\", 5:\t\"The Hierophant\", 6:\t\"The Lovers\", 7:\t\"The Chariot\", 8:\t\"Strength\", 9:\t\"The Hermit\", 10:\t\"Wheel of Fortune\", 11:\t\"Justice\", 12:\t\"The Hanged Man\", 13:\t\"Death\", 14:\t\"Temperance\", 15:\t\"The Devil\", 16:\t\"The Tower\", 17:\t\"The Star\", 18:\t\"The Moon\", 19:\t\"The Sun\", 20:\t\"Judgement\", 21:\t\"The World\", 22: \"The Fool\"}\n",
    "\n",
    "spread = {}\n",
    "\n",
    "spread[\"past\"] = tarot.pop(13)\n",
    "spread[\"present\"] = tarot.pop(22)\n",
    "spread[\"future\"] = tarot.pop(10)\n",
    "\n",
    "for k,v in spread.items():\n",
    "  print(\"Your {key} is the {value} card.\".format(key=k,value=v))"
   ]
  },
  {
   "cell_type": "code",
   "execution_count": 6,
   "id": "8afadcf1-ad10-4548-ab3b-74cc857066f6",
   "metadata": {},
   "outputs": [
    {
     "name": "stdout",
     "output_type": "stream",
     "text": [
      "15\n",
      "{'player1': 29, 'wordNerd': 32, 'Lexi Con': 31, 'Prof Reader': 31}\n"
     ]
    }
   ],
   "source": [
    "letters = [\"A\", \"B\", \"C\", \"D\", \"E\", \"F\", \"G\", \"H\", \"I\", \"J\", \"K\", \"L\", \"M\", \"N\", \"O\", \"P\", \"Q\", \"R\", \"S\", \"T\", \"U\", \"V\", \"W\", \"X\", \"Y\", \"Z\"]\n",
    "points = [1, 3, 3, 2, 1, 4, 2, 4, 1, 8, 5, 1, 3, 4, 1, 3, 10, 1, 1, 1, 1, 4, 4, 8, 4, 10]\n",
    "\n",
    "letter_to_points = {k:v for k,v in zip(letters,points)}\n",
    "\n",
    "letter_to_points[\" \"] = 0\n",
    "\n",
    "def score_word(word):\n",
    "  point_total = 0\n",
    "  for letter in word:\n",
    "    point_total += letter_to_points.get(letter, 0)\n",
    "  return point_total\n",
    "\n",
    "brownie_points = score_word(\"BROWNIE\")\n",
    "\n",
    "print(brownie_points)\n",
    "\n",
    "player_to_words = {\n",
    "  \"player1\": [\"BLUE\",\"TENNIS\",\"EXIT\"],\n",
    "  \"wordNerd\": [\"EARTH\",\"EYES\",\"MACHINE\"],\n",
    "  \"Lexi Con\": [\"ERASER\",\"BELLY\",\"HUSKY\"],\n",
    "  \"Prof Reader\": [\"ZAP\",\"COMA\",\"PERIOD\"]\n",
    "  }\n",
    "\n",
    "player_to_points = {}\n",
    "\n",
    "for player,words in player_to_words.items():\n",
    "  player_points = 0\n",
    "  for word in words:\n",
    "    player_points += score_word(word)\n",
    "  player_to_points[player] = player_points\n",
    "\n",
    "print(player_to_points)\n"
   ]
  },
  {
   "cell_type": "code",
   "execution_count": 7,
   "id": "ac2fe5c4-9054-4fca-8578-aaee3afcf428",
   "metadata": {},
   "outputs": [
    {
     "name": "stdout",
     "output_type": "stream",
     "text": [
      "Best Picture\n",
      "Best Actor\n",
      "Best Actress\n",
      "Animated Feature\n"
     ]
    }
   ],
   "source": [
    "oscars = {\"Best Picture\": \"Moonlight\", \"Best Actor\": \"Casey Affleck\", \"Best Actress\": \"Emma Stone\", \"Animated Feature\": \"Zootopia\"}\n",
    " \n",
    "for element in oscars:\n",
    "  print(element)"
   ]
  },
  {
   "cell_type": "code",
   "execution_count": 8,
   "id": "dee19904-c185-4603-835f-8a5e6fa07580",
   "metadata": {},
   "outputs": [
    {
     "name": "stdout",
     "output_type": "stream",
     "text": [
      "False\n"
     ]
    }
   ],
   "source": [
    "inventory = {\"iron spear\": 12, \"invisible knife\": 30, \"needle of ambition\": 10, \"stone glove\": 20, \"the peacemaker\": 65, \"demonslayer\": 50}\n",
    " \n",
    "print(12 in inventory)"
   ]
  },
  {
   "cell_type": "code",
   "execution_count": 9,
   "id": "db746252-5a2d-47cd-8d68-8fa52b2862e7",
   "metadata": {},
   "outputs": [
    {
     "name": "stdout",
     "output_type": "stream",
     "text": [
      "Congratulations on reading your first file at codecademy.com!\n"
     ]
    }
   ],
   "source": [
    "with open('welcome.txt') as text_file:\n",
    "  text_data = text_file.read()\n",
    "\n",
    "print(text_data)"
   ]
  },
  {
   "cell_type": "code",
   "execution_count": 10,
   "id": "1be9fa28-e45f-475a-a8d6-4d8600a0cb17",
   "metadata": {},
   "outputs": [
    {
     "name": "stdout",
     "output_type": "stream",
     "text": [
      "1. How many lines do we write on the daily,\n",
      "\n",
      "\n",
      "\n",
      "2. Many money, we write many many many\n",
      "\n",
      "\n",
      "\n",
      "3. How many lines do you write on the daily,\n",
      "\n",
      "\n",
      "\n",
      "4. Say you say many money, you write many many many\n"
     ]
    }
   ],
   "source": [
    "with open('how_many_lines.txt') as lines_doc:\n",
    "  for line in lines_doc.readlines():\n",
    "    print(line)"
   ]
  },
  {
   "cell_type": "code",
   "execution_count": 1,
   "id": "8cb6a596-8468-41af-b066-94aa13c440f3",
   "metadata": {},
   "outputs": [],
   "source": [
    "with open('bad_bands.txt', 'w') as bad_bands_doc:\n",
    "  bad_bands_doc.write('Band I Dislike')"
   ]
  },
  {
   "cell_type": "code",
   "execution_count": 2,
   "id": "adf29332-814b-4e6d-8eda-7229d8143a77",
   "metadata": {},
   "outputs": [
    {
     "name": "stdout",
     "output_type": "stream",
     "text": [
      "126 Orr Corner Suite 857\\nEast Michael, LA 54411\n",
      "6965 Miller Station Suite 485\\nNorth Michelle, KS 64364\n",
      "8749 Alicia Vista Apt. 288\\nLake Victoriaberg, TN 51094\n",
      "20116 Stephanie Stravenue\\nWhitneytown, IA 87358\n",
      "558 Melissa Keys Apt. 588\\nNorth Teresahaven, WA 63411\n",
      "725 Gloria Views Suite 628\\nEast Scott, IN 38095\n"
     ]
    }
   ],
   "source": [
    "import csv\n",
    " \n",
    "with open('addresses.csv', newline='') as addresses_csv:\n",
    "  address_reader = csv.DictReader(addresses_csv, delimiter=';')\n",
    "  for row in address_reader:\n",
    "    print(row['Address'])"
   ]
  },
  {
   "cell_type": "code",
   "execution_count": 4,
   "id": "6a77dad7-b815-400e-b547-1ae63c076970",
   "metadata": {},
   "outputs": [
    {
     "name": "stdout",
     "output_type": "stream",
     "text": [
      "['978-0-12-995015-8', '978-1-78110-100-1', '978-0-315-25137-3', '978-0-388-70665-7', '978-1-75098-721-6', '978-1-06-483628-6', '978-0-7419-8114-1', '978-1-4457-0480-7', '978-0-657-61030-2', '978-1-5039-7539-2']\n"
     ]
    }
   ],
   "source": [
    "import csv\n",
    "\n",
    "with open('books.csv', newline='') as books_csv:\n",
    "  books_reader = csv.DictReader(books_csv, delimiter='@')\n",
    "  isbn_list = []\n",
    "  for row in books_reader:\n",
    "    isbn_list.append(row['ISBN'])\n",
    "  print(isbn_list)"
   ]
  },
  {
   "cell_type": "code",
   "execution_count": 5,
   "id": "104bf334-706c-4734-bcf4-b187711a99b4",
   "metadata": {},
   "outputs": [],
   "source": [
    "access_log = [{'time': '08:39:37', 'limit': 844404, 'address': '1.227.124.181'}, {'time': '13:13:35', 'limit': 543871, 'address': '198.51.139.193'}, {'time': '19:40:45', 'limit': 3021, 'address': '172.1.254.208'}, {'time': '18:57:16', 'limit': 67031769, 'address': '172.58.247.219'}, {'time': '21:17:13', 'limit': 9083, 'address': '124.144.20.113'}, {'time': '23:34:17', 'limit': 65913, 'address': '203.236.149.220'}, {'time': '13:58:05', 'limit': 1541474, 'address': '192.52.206.76'}, {'time': '10:52:00', 'limit': 11465607, 'address': '104.47.149.93'}, {'time': '14:56:12', 'limit': 109, 'address': '192.31.185.7'}, {'time': '18:56:35', 'limit': 6207, 'address': '2.228.164.197'}]\n",
    "\n",
    "fields = ['time', 'address', 'limit']\n",
    "\n",
    "import csv\n",
    "\n",
    "with open('logger.csv', 'w') as logger_csv:\n",
    "  log_writer = csv.DictWriter(logger_csv, fieldnames=fields)\n",
    "  log_writer.writeheader()\n",
    "  for item in access_log:\n",
    "    log_writer.writerow(item)"
   ]
  },
  {
   "cell_type": "code",
   "execution_count": 6,
   "id": "29b6d0c3-9d96-46fe-a686-b0517578e231",
   "metadata": {},
   "outputs": [
    {
     "name": "stdout",
     "output_type": "stream",
     "text": [
      "Now that's JSON!\n"
     ]
    }
   ],
   "source": [
    "import json\n",
    "\n",
    "with open('message.json') as message_json:\n",
    "  message = json.load(message_json)\n",
    "  print(message['text'])"
   ]
  },
  {
   "cell_type": "code",
   "execution_count": 7,
   "id": "afd6abc8-bba1-4bee-a749-bb1f28c03e26",
   "metadata": {},
   "outputs": [],
   "source": [
    "data_payload = [\n",
    "  {'interesting message': 'What is JSON? A web application\\'s little pile of secrets.',\n",
    "   'follow up': 'But enough talk!'}\n",
    "]\n",
    "\n",
    "import json\n",
    "\n",
    "with open('data.json', 'w') as data_json:\n",
    "  json.dump(data_payload, data_json)"
   ]
  },
  {
   "cell_type": "code",
   "execution_count": 1,
   "id": "a7c65617-dadb-40fc-b015-d76e31fb2421",
   "metadata": {},
   "outputs": [
    {
     "name": "stdout",
     "output_type": "stream",
     "text": [
      "<class 'str'> has the count attribute!\n",
      "<class 'list'> has the count attribute!\n"
     ]
    }
   ],
   "source": [
    "can_we_count_it = [{'s': False}, \"sassafrass\", 18, [\"a\", \"c\", \"s\", \"d\", \"s\"]]\n",
    "\n",
    "for element in can_we_count_it:\n",
    "  if hasattr(element, 'count'):\n",
    "    print(str(type(element)) + \" has the count attribute!\")"
   ]
  },
  {
   "cell_type": "code",
   "execution_count": 2,
   "id": "a89f5837-7a7f-4047-a881-ce68084354b8",
   "metadata": {},
   "outputs": [
    {
     "name": "stdout",
     "output_type": "stream",
     "text": [
      "https://www.codecademy.com\n",
      "https://www.wikipedia.org\n"
     ]
    }
   ],
   "source": [
    "class SearchEngineEntry:\n",
    "  secure_prefix = \"https://\"\n",
    "  def __init__(self, url):\n",
    "    self.url = url\n",
    " \n",
    "  def secure(self):\n",
    "    return \"{prefix}{site}\".format(prefix=self.secure_prefix, site=self.url)\n",
    " \n",
    "codecademy = SearchEngineEntry(\"www.codecademy.com\")\n",
    "wikipedia = SearchEngineEntry(\"www.wikipedia.org\")\n",
    " \n",
    "print(codecademy.secure())\n",
    "# prints \"https://www.codecademy.com\"\n",
    " \n",
    "print(wikipedia.secure())\n",
    "# prints \"https://www.wikipedia.org\""
   ]
  },
  {
   "cell_type": "code",
   "execution_count": 4,
   "id": "46705b30-e4e7-4775-ae93-5be28062f2ce",
   "metadata": {},
   "outputs": [
    {
     "name": "stdout",
     "output_type": "stream",
     "text": [
      "Creating circle with diameter 12\n",
      "Creating circle with diameter 36\n",
      "Creating circle with diameter 11460\n",
      "37.68\n",
      "113.04\n",
      "35984.4\n"
     ]
    }
   ],
   "source": [
    "class Circle:\n",
    "  pi = 3.14\n",
    "  def __init__(self, diameter):\n",
    "    print(\"Creating circle with diameter {d}\".format(d=diameter))\n",
    "    self.radius = diameter/2\n",
    "\n",
    "  def circumference(self):\n",
    "    return 2 * self.pi * self.radius\n",
    "\n",
    "medium_pizza = Circle(12)\n",
    "\n",
    "teaching_table = Circle(36)\n",
    "\n",
    "round_room = Circle(11460)\n",
    "\n",
    "print(medium_pizza.circumference())\n",
    "\n",
    "print(teaching_table.circumference())\n",
    "\n",
    "print(round_room.circumference())"
   ]
  },
  {
   "cell_type": "code",
   "execution_count": 5,
   "id": "8ff37615-e220-4cb8-b087-00a9ec406c7f",
   "metadata": {},
   "outputs": [
    {
     "name": "stdout",
     "output_type": "stream",
     "text": [
      "Circle with radius 6.0\n",
      "Circle with radius 18.0\n",
      "Circle with radius 5730.0\n"
     ]
    }
   ],
   "source": [
    "class Circle:\n",
    "  pi = 3.14\n",
    "  \n",
    "  def __init__(self, diameter):\n",
    "    self.radius = diameter / 2\n",
    "\n",
    "  def __repr__(self):\n",
    "    return \"Circle with radius {radius}\".format(radius=self.radius)\n",
    "  \n",
    "  def area(self):\n",
    "    return self.pi * self.radius ** 2\n",
    "  \n",
    "  def circumference(self):\n",
    "    return self.pi * 2 * self.radius\n",
    "  \n",
    "  \n",
    "medium_pizza = Circle(12)\n",
    "teaching_table = Circle(36)\n",
    "round_room = Circle(11460)\n",
    "\n",
    "print(medium_pizza)\n",
    "print(teaching_table)\n",
    "print(round_room)"
   ]
  },
  {
   "cell_type": "code",
   "execution_count": 6,
   "id": "43a17c37-5b7e-4a5b-8215-5e71a54c82a5",
   "metadata": {},
   "outputs": [],
   "source": [
    "class Student:\n",
    "  def __init__(self, name, year):\n",
    "    self.name = name\n",
    "    self.year = year\n",
    "    self.grades = []\n",
    "\n",
    "  def add_grade(self, grade):\n",
    "    if isinstance(grade, Grade):\n",
    "      self.grades.append(grade)\n",
    "\n",
    "roger = Student('Roger van der Weyden', 10)\n",
    "sandro = Student('Sandro Botticelli', 12)\n",
    "pieter = Student('Pieter Bruegel the Elder', 8)\n",
    "\n",
    "class Grade:\n",
    "  minimum_passing = 65\n",
    "  def __init__(self, score):\n",
    "    self.score = score\n",
    "\n",
    "pieter.add_grade(Grade(100))"
   ]
  },
  {
   "cell_type": "code",
   "execution_count": 7,
   "id": "65606cb7-2748-484b-8705-5ca08b4a9052",
   "metadata": {},
   "outputs": [
    {
     "data": {
      "text/plain": [
       "True"
      ]
     },
     "execution_count": 7,
     "metadata": {},
     "output_type": "execute_result"
    }
   ],
   "source": [
    "class HoldsFive:\n",
    "  five = 5\n",
    "  \n",
    "five_holder = HoldsFive()\n",
    " \n",
    "hasattr(five_holder, 'five')"
   ]
  },
  {
   "cell_type": "code",
   "execution_count": null,
   "id": "bf23a78a-c16c-4d7b-8b3f-28493aab93b9",
   "metadata": {},
   "outputs": [],
   "source": []
  }
 ],
 "metadata": {
  "kernelspec": {
   "display_name": "Python 3 (ipykernel)",
   "language": "python",
   "name": "python3"
  },
  "language_info": {
   "codemirror_mode": {
    "name": "ipython",
    "version": 3
   },
   "file_extension": ".py",
   "mimetype": "text/x-python",
   "name": "python",
   "nbconvert_exporter": "python",
   "pygments_lexer": "ipython3",
   "version": "3.9.13"
  }
 },
 "nbformat": 4,
 "nbformat_minor": 5
}
