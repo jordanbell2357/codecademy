{
 "cells": [
  {
   "cell_type": "code",
   "execution_count": 8,
   "id": "8ceaf26b-7d63-4d37-b193-62b70383cde6",
   "metadata": {},
   "outputs": [
    {
     "name": "stdout",
     "output_type": "stream",
     "text": [
      "\n",
      " _  _     ___   __  ____             \n",
      "/ )( \\   / __) /  \\(_  _)            \n",
      ") \\/ (  ( (_ \\(  O ) )(              \n",
      "\\____/   \\___/ \\__/ (__)             \n",
      " _  _   __    ___  __ _  ____  ____  \n",
      "/ )( \\ / _\\  / __)(  / )(  __)(    \\ \n",
      ") __ (/    \\( (__  )  (  ) _)  ) D ( \n",
      "\\_)(_/\\_/\\_/ \\___)(__\\_)(____)(____/ \n",
      "        ____  __     __   ____  _  _ \n",
      " ___   / ___)(  )   / _\\ / ___)/ )( (___)  \\___ \\/ (_/\\/    \\___ \\) __ (\n",
      "       (____/\\____/\\_/\\_/(____/\\_)(_/\n",
      " __ _  _  _  __    __                \n",
      "(  ( \\/ )( \\(  )  (  )               \n",
      "/    /) \\/ (/ (_/\\/ (_/\\             \n",
      "\\_)__)\\____/\\____/\\____/\n",
      "\n"
     ]
    }
   ],
   "source": [
    "import csv\n",
    "\n",
    "compromised_users = []\n",
    "\n",
    "with open('passwords.csv', newline='') as password_file:\n",
    "  password_csv = csv.DictReader(password_file, delimiter=',')\n",
    "  for password_row in password_csv:\n",
    "    compromised_users.append(password_row['Username'])\n",
    "\n",
    "with open('compromised_users.txt', 'w') as compromised_user_file:\n",
    "  for compromised_user in compromised_users:\n",
    "    compromised_user_file.write(compromised_user)\n",
    "\n",
    "import json\n",
    "\n",
    "with open('boss_message.json', 'w') as boss_message:\n",
    "  boss_message_dict = {\n",
    "    'recipient':'The Boss',\n",
    "    'message':'Mission Success'\n",
    "    }\n",
    "  json.dump(boss_message_dict, boss_message)\n",
    "\n",
    "slash_null_sig = \"\"\"\n",
    " _  _     ___   __  ____             \n",
    "/ )( \\   / __) /  \\(_  _)            \n",
    ") \\/ (  ( (_ \\(  O ) )(              \n",
    "\\____/   \\___/ \\__/ (__)             \n",
    " _  _   __    ___  __ _  ____  ____  \n",
    "/ )( \\ / _\\  / __)(  / )(  __)(    \\ \n",
    ") __ (/    \\( (__  )  (  ) _)  ) D ( \n",
    "\\_)(_/\\_/\\_/ \\___)(__\\_)(____)(____/ \n",
    "        ____  __     __   ____  _  _ \n",
    " ___   / ___)(  )   / _\\ / ___)/ )( \\\n",
    "(___)  \\___ \\/ (_/\\/    \\\\___ \\) __ (\n",
    "       (____/\\____/\\_/\\_/(____/\\_)(_/\n",
    " __ _  _  _  __    __                \n",
    "(  ( \\/ )( \\(  )  (  )               \n",
    "/    /) \\/ (/ (_/\\/ (_/\\             \n",
    "\\_)__)\\____/\\____/\\____/\n",
    "\"\"\"\n",
    "\n",
    "with open('new_passwords.csv', 'w') as new_passwords_obj:\n",
    "  new_passwords_obj.write(slash_null_sig)\n",
    "\n",
    "print(slash_null_sig)"
   ]
  },
  {
   "cell_type": "code",
   "execution_count": null,
   "id": "5bdea800-6d54-456c-b4f1-c0a8801fa323",
   "metadata": {},
   "outputs": [],
   "source": []
  }
 ],
 "metadata": {
  "kernelspec": {
   "display_name": "Python 3 (ipykernel)",
   "language": "python",
   "name": "python3"
  },
  "language_info": {
   "codemirror_mode": {
    "name": "ipython",
    "version": 3
   },
   "file_extension": ".py",
   "mimetype": "text/x-python",
   "name": "python",
   "nbconvert_exporter": "python",
   "pygments_lexer": "ipython3",
   "version": "3.9.13"
  }
 },
 "nbformat": 4,
 "nbformat_minor": 5
}
