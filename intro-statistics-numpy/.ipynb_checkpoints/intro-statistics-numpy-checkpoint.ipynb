{
 "cells": [
  {
   "cell_type": "code",
   "execution_count": 1,
   "id": "6bb421fb-292b-4692-bb7c-d01cd488e96e",
   "metadata": {},
   "outputs": [],
   "source": [
    "import numpy as np\n",
    "\n",
    "test_1 = np.array([92, 94, 88, 91, 87])\n",
    "\n",
    "test_2 = np.genfromtxt('test_2.csv', delimiter=',')"
   ]
  },
  {
   "cell_type": "code",
   "execution_count": 2,
   "id": "83f3d389-738b-434d-8815-23ddef8d69b6",
   "metadata": {},
   "outputs": [
    {
     "name": "stdout",
     "output_type": "stream",
     "text": [
      "[[92. 94. 88. 91. 87.]\n",
      " [12. 94. 58. 41. 17.]]\n"
     ]
    }
   ],
   "source": [
    "print(test_2)"
   ]
  },
  {
   "cell_type": "code",
   "execution_count": 3,
   "id": "1fc7e982-a467-4aba-920d-17b32447b35d",
   "metadata": {},
   "outputs": [
    {
     "data": {
      "text/plain": [
       "(2, 5)"
      ]
     },
     "execution_count": 3,
     "metadata": {},
     "output_type": "execute_result"
    }
   ],
   "source": [
    "test_2.shape"
   ]
  },
  {
   "cell_type": "code",
   "execution_count": 4,
   "id": "765b6374-f9a7-4736-b906-a98d1d4935fe",
   "metadata": {},
   "outputs": [
    {
     "name": "stdout",
     "output_type": "stream",
     "text": [
      "[86.66666667 93.66666667 82.66666667 92.         90.66666667]\n"
     ]
    }
   ],
   "source": [
    "import numpy as np\n",
    "\n",
    "test_1 = np.array([92, 94, 88, 91, 87])\n",
    "test_2 = np.array([79, 100, 86, 93, 91])\n",
    "test_3 = np.array([87, 85, 72, 90, 92])\n",
    "test_3_fixed = test_3 + 2\n",
    "\n",
    "total_grade = test_1 + test_2 + test_3_fixed\n",
    "\n",
    "final_grade = total_grade / 3\n",
    "\n",
    "print(final_grade)"
   ]
  },
  {
   "cell_type": "code",
   "execution_count": 5,
   "id": "fb9f29ce-660b-41ff-b9a9-cabfa22bd657",
   "metadata": {},
   "outputs": [],
   "source": [
    "import numpy as np\n",
    "\n",
    "student_scores = np.array([[92, 94, 88, 91, 87],\n",
    "                           [79, 100, 86, 93, 91],\n",
    "                           [87, 85, 72, 90, 92]])\n",
    "\n",
    "tanya_test_3 = student_scores[2,0]\n",
    "\n",
    "cody_test_scores = student_scores[:,4]"
   ]
  },
  {
   "cell_type": "code",
   "execution_count": 6,
   "id": "c8713eb1-5b0b-4269-82c1-231d259f1786",
   "metadata": {},
   "outputs": [
    {
     "name": "stdout",
     "output_type": "stream",
     "text": [
      "[50 56 51]\n",
      "[90 85 98]\n",
      "[79 65 63 79]\n"
     ]
    }
   ],
   "source": [
    "import numpy as np\n",
    "\n",
    "porridge = np.array([79, 65, 50, 63, 56, 90, 85, 98, 79, 51])\n",
    "\n",
    "cold = porridge[porridge < 60]\n",
    "\n",
    "hot = porridge[porridge > 80]\n",
    "\n",
    "just_right = porridge[(porridge >= 60) & (porridge <= 80)]\n",
    "\n",
    "print(cold)\n",
    "print(hot)\n",
    "print(just_right)"
   ]
  },
  {
   "cell_type": "code",
   "execution_count": null,
   "id": "053e3256-7cb1-4ba8-976d-32226b851d17",
   "metadata": {},
   "outputs": [],
   "source": [
    "import numpy as np\n",
    "\n",
    "temperatures = np.genfromtxt('temperature_data.csv', delimiter=',')\n",
    "\n",
    "temperatures_fixed = temperatures + 3\n",
    "\n",
    "monday_temperatures = temperatures_fixed[0,:]\n",
    "\n",
    "thursday_friday_morning = temperatures_fixed[3:4+1,1]\n",
    "\n",
    "temperature_extremes = temperatures_fixed[(temperatures_fixed < 50) | (temperatures_fixed > 60)]"
   ]
  },
  {
   "cell_type": "markdown",
   "id": "07289ebe-8e4d-4e5c-b651-554f86ab66ed",
   "metadata": {},
   "source": [
    "axis=0 are the values that share an index, axis=1 are the values that share an array."
   ]
  },
  {
   "cell_type": "code",
   "execution_count": 7,
   "id": "115d287d-a9ec-4462-9520-4f1b4fd33b61",
   "metadata": {},
   "outputs": [
    {
     "name": "stdout",
     "output_type": "stream",
     "text": [
      "[[2.    0.75  2.    1.    0.5  ]\n",
      " [1.    0.125 1.    1.    0.125]\n",
      " [2.75  1.5   1.    0.    1.   ]\n",
      " [4.    0.5   2.    2.    0.5  ]]\n"
     ]
    }
   ],
   "source": [
    "import numpy as np\n",
    "\n",
    "cupcakes = np.array([2,0.75,2,1,0.5])\n",
    "\n",
    "recipes = np.genfromtxt('recipes.csv', delimiter=',')\n",
    "\n",
    "print(recipes)\n",
    "\n",
    "eggs = recipes[:,2]\n",
    "\n",
    "(eggs < 1.25) & (eggs > 0.8)\n",
    "\n",
    "cookies = recipes[2,:]\n",
    "\n",
    "double_batch = 2 * cupcakes\n",
    "\n",
    "grocery_list = cookies + double_batch"
   ]
  },
  {
   "cell_type": "code",
   "execution_count": 8,
   "id": "41daa633-9eab-4f20-a0dd-e6b94c9317bd",
   "metadata": {},
   "outputs": [
    {
     "name": "stdout",
     "output_type": "stream",
     "text": [
      "6.5\n",
      "10.428571428571429\n",
      "5.0\n"
     ]
    }
   ],
   "source": [
    "import numpy as np\n",
    "\n",
    "store_one = np.array([2, 5, 8, 3, 4, 10, 15, 5])\n",
    "store_two = np.array([3, 17, 18,  9,  2, 14, 10])\n",
    "store_three = np.array([7, 5, 4, 3, 2, 7, 7])\n",
    "\n",
    "store_one_avg = np.mean(store_one)\n",
    "store_two_avg = np.mean(store_two)\n",
    "store_three_avg = np.mean(store_three)\n",
    "\n",
    "print(store_one_avg)\n",
    "print(store_two_avg)\n",
    "print(store_three_avg)\n",
    "\n",
    "best_seller = store_two"
   ]
  },
  {
   "cell_type": "code",
   "execution_count": 9,
   "id": "09db226f-986d-4ca8-a973-ad23a70061ea",
   "metadata": {},
   "outputs": [
    {
     "name": "stdout",
     "output_type": "stream",
     "text": [
      "0.21\n"
     ]
    }
   ],
   "source": [
    "import numpy as np\n",
    "\n",
    "class_year = np.array([1967, 1949, 2004, 1997, 1953, 1950, 1958, 1974, 1987, 2006, 2013, 1978, 1951, 1998, 1996, 1952, 2005, 2007, 2003, 1955, 1963, 1978, 2001, 2012, 2014, 1948, 1970, 2011, 1962, 1966, 1978, 1988, 2006, 1971, 1994, 1978, 1977, 1960, 2008, 1965, 1990, 2011, 1962, 1995, 2004, 1991, 1952, 2013, 1983, 1955, 1957, 1947, 1994, 1978, 1957, 2016, 1969, 1996, 1958, 1994, 1958, 2008, 1988, 1977, 1991, 1997, 2009, 1976, 1999, 1975, 1949, 1985, 2001, 1952, 1953, 1949, 2015, 2006, 1996, 2015, 2009, 1949, 2004, 2010, 2011, 2001, 1998, 1967, 1994, 1966, 1994, 1986, 1963, 1954, 1963, 1987, 1992, 2008, 1979, 1987])\n",
    "\n",
    "millennials = np.mean(class_year >= 2005)\n",
    "\n",
    "print(millennials)"
   ]
  },
  {
   "cell_type": "code",
   "execution_count": 10,
   "id": "bb04ba6a-e9c5-4af8-8320-8cb835efdbeb",
   "metadata": {},
   "outputs": [
    {
     "name": "stdout",
     "output_type": "stream",
     "text": [
      "5.266666666666667\n",
      "[4.  5.6 6.2]\n",
      "[4.33333333 3.         4.         8.66666667 6.33333333]\n"
     ]
    }
   ],
   "source": [
    "import numpy as np\n",
    "\n",
    "allergy_trials = np.array([[6, 1, 3, 8, 2], \n",
    "                           [2, 6, 3, 9, 8], \n",
    "                           [5, 2, 6, 9, 9]])\n",
    "\n",
    "total_mean = np.mean(allergy_trials)\n",
    "\n",
    "trial_mean = np.mean(allergy_trials, axis=1)\n",
    "\n",
    "patient_mean = np.mean(allergy_trials, axis=0)\n",
    "\n",
    "print(total_mean)\n",
    "print(trial_mean)\n",
    "print(patient_mean)"
   ]
  },
  {
   "cell_type": "code",
   "execution_count": null,
   "id": "8d32f4a6-7598-4e5f-8b4e-3a57ad25387f",
   "metadata": {},
   "outputs": [],
   "source": []
  }
 ],
 "metadata": {
  "kernelspec": {
   "display_name": "Python 3 (ipykernel)",
   "language": "python",
   "name": "python3"
  },
  "language_info": {
   "codemirror_mode": {
    "name": "ipython",
    "version": 3
   },
   "file_extension": ".py",
   "mimetype": "text/x-python",
   "name": "python",
   "nbconvert_exporter": "python",
   "pygments_lexer": "ipython3",
   "version": "3.9.15"
  }
 },
 "nbformat": 4,
 "nbformat_minor": 5
}
