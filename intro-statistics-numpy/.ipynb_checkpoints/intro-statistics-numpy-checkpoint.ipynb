{
 "cells": [
  {
   "cell_type": "code",
   "execution_count": 1,
   "id": "6bb421fb-292b-4692-bb7c-d01cd488e96e",
   "metadata": {},
   "outputs": [],
   "source": [
    "import numpy as np\n",
    "\n",
    "test_1 = np.array([92, 94, 88, 91, 87])\n",
    "\n",
    "test_2 = np.genfromtxt('test_2.csv', delimiter=',')"
   ]
  },
  {
   "cell_type": "code",
   "execution_count": 2,
   "id": "83f3d389-738b-434d-8815-23ddef8d69b6",
   "metadata": {},
   "outputs": [
    {
     "name": "stdout",
     "output_type": "stream",
     "text": [
      "[[92. 94. 88. 91. 87.]\n",
      " [12. 94. 58. 41. 17.]]\n"
     ]
    }
   ],
   "source": [
    "print(test_2)"
   ]
  },
  {
   "cell_type": "code",
   "execution_count": 3,
   "id": "1fc7e982-a467-4aba-920d-17b32447b35d",
   "metadata": {},
   "outputs": [
    {
     "data": {
      "text/plain": [
       "(2, 5)"
      ]
     },
     "execution_count": 3,
     "metadata": {},
     "output_type": "execute_result"
    }
   ],
   "source": [
    "test_2.shape"
   ]
  },
  {
   "cell_type": "code",
   "execution_count": 4,
   "id": "765b6374-f9a7-4736-b906-a98d1d4935fe",
   "metadata": {},
   "outputs": [
    {
     "name": "stdout",
     "output_type": "stream",
     "text": [
      "[86.66666667 93.66666667 82.66666667 92.         90.66666667]\n"
     ]
    }
   ],
   "source": [
    "import numpy as np\n",
    "\n",
    "test_1 = np.array([92, 94, 88, 91, 87])\n",
    "test_2 = np.array([79, 100, 86, 93, 91])\n",
    "test_3 = np.array([87, 85, 72, 90, 92])\n",
    "test_3_fixed = test_3 + 2\n",
    "\n",
    "total_grade = test_1 + test_2 + test_3_fixed\n",
    "\n",
    "final_grade = total_grade / 3\n",
    "\n",
    "print(final_grade)"
   ]
  },
  {
   "cell_type": "code",
   "execution_count": 5,
   "id": "fb9f29ce-660b-41ff-b9a9-cabfa22bd657",
   "metadata": {},
   "outputs": [],
   "source": [
    "import numpy as np\n",
    "\n",
    "student_scores = np.array([[92, 94, 88, 91, 87],\n",
    "                           [79, 100, 86, 93, 91],\n",
    "                           [87, 85, 72, 90, 92]])\n",
    "\n",
    "tanya_test_3 = student_scores[2,0]\n",
    "\n",
    "cody_test_scores = student_scores[:,4]"
   ]
  },
  {
   "cell_type": "code",
   "execution_count": 6,
   "id": "c8713eb1-5b0b-4269-82c1-231d259f1786",
   "metadata": {},
   "outputs": [
    {
     "name": "stdout",
     "output_type": "stream",
     "text": [
      "[50 56 51]\n",
      "[90 85 98]\n",
      "[79 65 63 79]\n"
     ]
    }
   ],
   "source": [
    "import numpy as np\n",
    "\n",
    "porridge = np.array([79, 65, 50, 63, 56, 90, 85, 98, 79, 51])\n",
    "\n",
    "cold = porridge[porridge < 60]\n",
    "\n",
    "hot = porridge[porridge > 80]\n",
    "\n",
    "just_right = porridge[(porridge >= 60) & (porridge <= 80)]\n",
    "\n",
    "print(cold)\n",
    "print(hot)\n",
    "print(just_right)"
   ]
  },
  {
   "cell_type": "code",
   "execution_count": null,
   "id": "053e3256-7cb1-4ba8-976d-32226b851d17",
   "metadata": {},
   "outputs": [],
   "source": [
    "import numpy as np\n",
    "\n",
    "temperatures = np.genfromtxt('temperature_data.csv', delimiter=',')\n",
    "\n",
    "temperatures_fixed = temperatures + 3\n",
    "\n",
    "monday_temperatures = temperatures_fixed[0,:]\n",
    "\n",
    "thursday_friday_morning = temperatures_fixed[3:4+1,1]\n",
    "\n",
    "temperature_extremes = temperatures_fixed[(temperatures_fixed < 50) | (temperatures_fixed > 60)]"
   ]
  },
  {
   "cell_type": "markdown",
   "id": "07289ebe-8e4d-4e5c-b651-554f86ab66ed",
   "metadata": {},
   "source": [
    "axis=0 are the values that share an index, axis=1 are the values that share an array."
   ]
  },
  {
   "cell_type": "code",
   "execution_count": 7,
   "id": "115d287d-a9ec-4462-9520-4f1b4fd33b61",
   "metadata": {},
   "outputs": [
    {
     "name": "stdout",
     "output_type": "stream",
     "text": [
      "[[2.    0.75  2.    1.    0.5  ]\n",
      " [1.    0.125 1.    1.    0.125]\n",
      " [2.75  1.5   1.    0.    1.   ]\n",
      " [4.    0.5   2.    2.    0.5  ]]\n"
     ]
    }
   ],
   "source": [
    "import numpy as np\n",
    "\n",
    "cupcakes = np.array([2,0.75,2,1,0.5])\n",
    "\n",
    "recipes = np.genfromtxt('recipes.csv', delimiter=',')\n",
    "\n",
    "print(recipes)\n",
    "\n",
    "eggs = recipes[:,2]\n",
    "\n",
    "(eggs < 1.25) & (eggs > 0.8)\n",
    "\n",
    "cookies = recipes[2,:]\n",
    "\n",
    "double_batch = 2 * cupcakes\n",
    "\n",
    "grocery_list = cookies + double_batch"
   ]
  },
  {
   "cell_type": "code",
   "execution_count": 8,
   "id": "41daa633-9eab-4f20-a0dd-e6b94c9317bd",
   "metadata": {},
   "outputs": [
    {
     "name": "stdout",
     "output_type": "stream",
     "text": [
      "6.5\n",
      "10.428571428571429\n",
      "5.0\n"
     ]
    }
   ],
   "source": [
    "import numpy as np\n",
    "\n",
    "store_one = np.array([2, 5, 8, 3, 4, 10, 15, 5])\n",
    "store_two = np.array([3, 17, 18,  9,  2, 14, 10])\n",
    "store_three = np.array([7, 5, 4, 3, 2, 7, 7])\n",
    "\n",
    "store_one_avg = np.mean(store_one)\n",
    "store_two_avg = np.mean(store_two)\n",
    "store_three_avg = np.mean(store_three)\n",
    "\n",
    "print(store_one_avg)\n",
    "print(store_two_avg)\n",
    "print(store_three_avg)\n",
    "\n",
    "best_seller = store_two"
   ]
  },
  {
   "cell_type": "code",
   "execution_count": 9,
   "id": "09db226f-986d-4ca8-a973-ad23a70061ea",
   "metadata": {},
   "outputs": [
    {
     "name": "stdout",
     "output_type": "stream",
     "text": [
      "0.21\n"
     ]
    }
   ],
   "source": [
    "import numpy as np\n",
    "\n",
    "class_year = np.array([1967, 1949, 2004, 1997, 1953, 1950, 1958, 1974, 1987, 2006, 2013, 1978, 1951, 1998, 1996, 1952, 2005, 2007, 2003, 1955, 1963, 1978, 2001, 2012, 2014, 1948, 1970, 2011, 1962, 1966, 1978, 1988, 2006, 1971, 1994, 1978, 1977, 1960, 2008, 1965, 1990, 2011, 1962, 1995, 2004, 1991, 1952, 2013, 1983, 1955, 1957, 1947, 1994, 1978, 1957, 2016, 1969, 1996, 1958, 1994, 1958, 2008, 1988, 1977, 1991, 1997, 2009, 1976, 1999, 1975, 1949, 1985, 2001, 1952, 1953, 1949, 2015, 2006, 1996, 2015, 2009, 1949, 2004, 2010, 2011, 2001, 1998, 1967, 1994, 1966, 1994, 1986, 1963, 1954, 1963, 1987, 1992, 2008, 1979, 1987])\n",
    "\n",
    "millennials = np.mean(class_year >= 2005)\n",
    "\n",
    "print(millennials)"
   ]
  },
  {
   "cell_type": "code",
   "execution_count": 10,
   "id": "bb04ba6a-e9c5-4af8-8320-8cb835efdbeb",
   "metadata": {},
   "outputs": [
    {
     "name": "stdout",
     "output_type": "stream",
     "text": [
      "5.266666666666667\n",
      "[4.  5.6 6.2]\n",
      "[4.33333333 3.         4.         8.66666667 6.33333333]\n"
     ]
    }
   ],
   "source": [
    "import numpy as np\n",
    "\n",
    "allergy_trials = np.array([[6, 1, 3, 8, 2], \n",
    "                           [2, 6, 3, 9, 8], \n",
    "                           [5, 2, 6, 9, 9]])\n",
    "\n",
    "total_mean = np.mean(allergy_trials)\n",
    "\n",
    "trial_mean = np.mean(allergy_trials, axis=1)\n",
    "\n",
    "patient_mean = np.mean(allergy_trials, axis=0)\n",
    "\n",
    "print(total_mean)\n",
    "print(trial_mean)\n",
    "print(patient_mean)"
   ]
  },
  {
   "cell_type": "code",
   "execution_count": 11,
   "id": "8d32f4a6-7598-4e5f-8b4e-3a57ad25387f",
   "metadata": {},
   "outputs": [
    {
     "name": "stdout",
     "output_type": "stream",
     "text": [
      "[ 85  85  85  85  85  86  86  86  86  86  86  86  87  87  87  87  87  87\n",
      "  87  88  88  88  88  88  88  88  88  89  89  90  90  90  90  90  90  90\n",
      "  90  91  91  91  92  92  92  92  92  93  93  93  93  93  94  94  94  94\n",
      "  94  94  94  95  95  96  96  96  96  96  96  97  97  97  97  97  98  98\n",
      "  98  98  98  98  99  99  99  99  99 100 101 101 187 191 195 196 198 199]\n"
     ]
    }
   ],
   "source": [
    "import numpy as np\n",
    "\n",
    "temps = np.array([86, 88, 94, 85, 97, 90, 87, 85, 94, 93, 92, 95, 98, 85, 94, 91, 97, 88, 87, 86, 99, 89, 89, 99, 88, 96, 93, 96, 85, 88, 191, 95, 96, 87, 99, 93, 90, 86, 87, 100, 187, 98, 101, 101, 96, 94, 96, 87, 86, 92, 98,94, 98, 90, 99, 96, 99, 86, 97, 98, 86, 90, 86, 94, 91, 88, 196, 195,93, 97, 199, 87, 87, 90, 90, 98, 88, 92, 97, 88, 85, 94, 88, 93, 198, 90, 91, 90, 92, 92])\n",
    "\n",
    "sorted_temps = np.sort(temps)\n",
    "\n",
    "print(sorted_temps)"
   ]
  },
  {
   "cell_type": "code",
   "execution_count": 12,
   "id": "2e7e3594-1d74-42f3-8342-7956d66b66a4",
   "metadata": {},
   "outputs": [
    {
     "name": "stdout",
     "output_type": "stream",
     "text": [
      "3.0\n",
      "8.0\n"
     ]
    }
   ],
   "source": [
    "import numpy as np\n",
    "\n",
    "patrons = np.array([ 2, 6, 14, 4, 3, 9, 1, 11, 4, 2, 8])\n",
    "\n",
    "thirtieth_percentile = np.percentile(patrons, 30)\n",
    "\n",
    "seventieth_percentile = np.percentile(patrons, 70)\n",
    "\n",
    "print(thirtieth_percentile)\n",
    "print(seventieth_percentile)"
   ]
  },
  {
   "cell_type": "code",
   "execution_count": 13,
   "id": "442e49ea-bf8b-42ff-90ea-705e79d912e4",
   "metadata": {},
   "outputs": [
    {
     "name": "stdout",
     "output_type": "stream",
     "text": [
      "1.0\n",
      "3.5\n",
      "2.5\n"
     ]
    }
   ],
   "source": [
    "import numpy as np\n",
    "\n",
    "movies_watched = np.array([2, 3, 8, 0, 2, 4, 3, 1, 1, 0, 5, 1, 1, 7, 2])\n",
    "\n",
    "first_quarter = np.percentile(movies_watched, 25)\n",
    "third_quarter = np.percentile(movies_watched, 75)\n",
    "\n",
    "interquartile_range = third_quarter - first_quarter\n",
    "\n",
    "print(first_quarter)\n",
    "print(third_quarter)\n",
    "print(interquartile_range)"
   ]
  },
  {
   "cell_type": "code",
   "execution_count": 14,
   "id": "0944e471-0bd6-4924-a457-4cccc6ab9d4e",
   "metadata": {},
   "outputs": [
    {
     "name": "stdout",
     "output_type": "stream",
     "text": [
      "611.3183785884406\n",
      "87.22505374031019\n"
     ]
    }
   ],
   "source": [
    "import numpy as np\n",
    "\n",
    "pumpkin = np.array([68, 1820, 1420, 2062, 704, 1156, 1857, 1755, 2092, 1384])\n",
    "\n",
    "acorn_squash = np.array([20, 43, 99, 200, 12, 250, 58, 120, 230, 215])\n",
    "\n",
    "pumpkin_avg = np.mean(pumpkin)\n",
    "acorn_squash_avg = np.mean(acorn_squash)\n",
    "\n",
    "pumpkin_std = np.std(pumpkin)\n",
    "acorn_squash_std = np.std(acorn_squash)\n",
    "\n",
    "print(pumpkin_std)\n",
    "print(acorn_squash_std)\n",
    "\n",
    "winner = pumpkin"
   ]
  },
  {
   "cell_type": "code",
   "execution_count": 15,
   "id": "515c397d-e0ca-4df1-b56a-c1611a27d7e2",
   "metadata": {},
   "outputs": [
    {
     "name": "stdout",
     "output_type": "stream",
     "text": [
      "2.895\n",
      "2.81\n",
      "1.6775\n",
      "4.025\n",
      "2.3475\n",
      "1.5267312577311483\n"
     ]
    }
   ],
   "source": [
    "import numpy as np\n",
    "\n",
    "rainfall = np.array([5.21, 3.76, 3.27, 2.35, 1.89, 1.55, 0.65, 1.06, 1.72, 3.35, 4.82, 5.11])\n",
    "\n",
    "rain_mean = np.mean(rainfall)\n",
    "\n",
    "rain_median = np.median(rainfall)\n",
    "\n",
    "first_quarter = np.percentile(rainfall, 25)\n",
    "third_quarter = np.percentile(rainfall, 75)\n",
    "\n",
    "interquartile_range = third_quarter - first_quarter\n",
    "\n",
    "rain_std = np.std(rainfall)\n",
    "\n",
    "print(rain_mean)\n",
    "print(rain_median)\n",
    "print(first_quarter)\n",
    "print(third_quarter)\n",
    "print(interquartile_range)\n",
    "print(rain_std)"
   ]
  },
  {
   "cell_type": "code",
   "execution_count": null,
   "id": "e23af14e-c424-4355-b6b4-4a4cdf952017",
   "metadata": {},
   "outputs": [],
   "source": [
    "import codecademylib\n",
    "import numpy as np\n",
    "from matplotlib import pyplot as plt\n",
    "\n",
    "commutes = np.genfromtxt('commutes.csv', delimiter=',')\n",
    "\n",
    "plt.hist(commutes, bins=6, range=(20,50))\n",
    "plt.show()"
   ]
  },
  {
   "cell_type": "code",
   "execution_count": 16,
   "id": "14d7c425-84ec-4031-90e2-eb119eedf4c9",
   "metadata": {},
   "outputs": [
    {
     "data": {
      "image/png": "[encoded data removed]",
      "text/plain": [
       "<Figure size 640x480 with 1 Axes>"
      ]
     },
     "metadata": {},
     "output_type": "display_data"
    }
   ],
   "source": [
    "import numpy as np\n",
    "from matplotlib import pyplot as plt\n",
    "\n",
    "# Brachiosaurus\n",
    "b_data = np.random.normal(loc=6.7, scale=0.7, size=1000)\n",
    "\n",
    "# Fictionosaurus\n",
    "f_data = np.random.normal(loc=7.7, scale=0.3, size=1000)\n",
    "\n",
    "plt.hist(b_data,\n",
    "         bins=30, range=(5, 8.5), histtype='step',\n",
    "         label='Brachiosaurus')\n",
    "plt.hist(f_data,\n",
    "         bins=30, range=(5, 8.5), histtype='step',\n",
    "         label='Fictionosaurus')\n",
    "plt.xlabel('Femur Length (ft)')\n",
    "plt.legend(loc=2)\n",
    "plt.show()"
   ]
  },
  {
   "cell_type": "code",
   "execution_count": 17,
   "id": "8da184ad-0e36-455f-97c7-352ac43b42a0",
   "metadata": {},
   "outputs": [
    {
     "data": {
      "image/png": "[encoded data removed]",
      "text/plain": [
       "<Figure size 640x480 with 1 Axes>"
      ]
     },
     "metadata": {},
     "output_type": "display_data"
    }
   ],
   "source": [
    "import numpy as np\n",
    "from matplotlib import pyplot as plt\n",
    "\n",
    "emails = np.random.binomial(500, 0.05, size=10000)\n",
    "\n",
    "plt.hist(emails)\n",
    "plt.show()"
   ]
  },
  {
   "cell_type": "code",
   "execution_count": 18,
   "id": "fc242f65-be7e-4367-96cc-c80435271d97",
   "metadata": {},
   "outputs": [
    {
     "name": "stdout",
     "output_type": "stream",
     "text": [
      "0.0\n",
      "0.0027\n"
     ]
    }
   ],
   "source": [
    "import numpy as np\n",
    "\n",
    "emails = np.random.binomial(500, 0.05, size=10000)\n",
    "\n",
    "no_emails = np.mean(emails == 0)\n",
    "\n",
    "# What’s the probability that 8% or more of people will open the email?\n",
    "\n",
    "b_test_emails = np.mean(emails >= 0.08 * 500)\n",
    "\n",
    "print(no_emails)\n",
    "\n",
    "print(b_test_emails)"
   ]
  },
  {
   "cell_type": "code",
   "execution_count": 28,
   "id": "47a0d342-639c-4889-862e-078f48f6b17a",
   "metadata": {},
   "outputs": [
    {
     "data": {
      "image/png": "[encoded data removed]",
      "text/plain": [
       "<Figure size 640x480 with 1 Axes>"
      ]
     },
     "metadata": {},
     "output_type": "display_data"
    }
   ],
   "source": [
    "import numpy as np\n",
    "from matplotlib import pyplot as plt\n",
    "\n",
    "sunflowers = np.genfromtxt('sunflower_heights.csv', delimiter=',')\n",
    "\n",
    "# Calculate mean and std of sunflowers here:\n",
    "sunflowers_mean = np.mean(sunflowers)\n",
    "sunflowers_std = np.std(sunflowers)\n",
    "\n",
    "# Calculate sunflowers_normal here:\n",
    "sunflowers_normal = np.random.normal(sunflowers_mean, sunflowers_std, size=5000)\n",
    "\n",
    "plt.hist(sunflowers, range=(11, 15), histtype='step', linewidth=2, label='observed',\n",
    "         density=True)\n",
    "plt.hist(sunflowers_normal, range=(11, 15), histtype='step', linewidth=2, label='normal',\n",
    "         density=True)\n",
    "plt.legend()\n",
    "plt.savefig('sunflowers.png')\n",
    "plt.show()"
   ]
  },
  {
   "cell_type": "code",
   "execution_count": 22,
   "id": "a0db9cfe-81ec-4872-9213-7b07e729155c",
   "metadata": {},
   "outputs": [
    {
     "data": {
      "text/plain": [
       "13.002150000000002"
      ]
     },
     "execution_count": 22,
     "metadata": {},
     "output_type": "execute_result"
    }
   ],
   "source": [
    "sunflowers_mean"
   ]
  },
  {
   "cell_type": "code",
   "execution_count": null,
   "id": "7f2e2662-007a-4101-9e79-4e7c1175d37d",
   "metadata": {},
   "outputs": [],
   "source": []
  }
 ],
 "metadata": {
  "kernelspec": {
   "display_name": "Python 3 (ipykernel)",
   "language": "python",
   "name": "python3"
  },
  "language_info": {
   "codemirror_mode": {
    "name": "ipython",
    "version": 3
   },
   "file_extension": ".py",
   "mimetype": "text/x-python",
   "name": "python",
   "nbconvert_exporter": "python",
   "pygments_lexer": "ipython3",
   "version": "3.9.15"
  }
 },
 "nbformat": 4,
 "nbformat_minor": 5
}
